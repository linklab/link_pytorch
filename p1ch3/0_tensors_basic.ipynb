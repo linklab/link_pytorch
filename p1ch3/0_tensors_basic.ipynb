{
 "cells": [
  {
   "cell_type": "markdown",
   "metadata": {},
   "source": [
    "# PYTORCH TENSORS - BASIC\n",
    "- https://tutorials.pytorch.kr/beginner/introyt/tensors_deeper_tutorial.html"
   ]
  },
  {
   "cell_type": "code",
   "execution_count": 1,
   "metadata": {},
   "outputs": [
    {
     "data": {
      "text/plain": "<IPython.core.display.HTML object>",
      "text/html": "<style type='text/css'>\n.CodeMirror{\n    font-size: 20px;\n}\n\ndiv.output_area pre {\n    font-size: 20px;\n}\n\ndiv.text_cell_render {\n    font-size: 20px;\n}\n</style>\n"
     },
     "metadata": {},
     "output_type": "display_data"
    }
   ],
   "source": [
    "%%html\n",
    "<style type='text/css'>\n",
    ".CodeMirror{\n",
    "    font-size: 20px;\n",
    "}\n",
    "\n",
    "div.output_area pre {\n",
    "    font-size: 20px;\n",
    "}\n",
    "\n",
    "div.text_cell_render {\n",
    "    font-size: 20px;\n",
    "}\n",
    "</style>"
   ]
  },
  {
   "cell_type": "code",
   "execution_count": 2,
   "metadata": {},
   "outputs": [],
   "source": [
    "%matplotlib inline"
   ]
  },
  {
   "cell_type": "code",
   "execution_count": 3,
   "metadata": {},
   "outputs": [],
   "source": [
    "import torch\n",
    "import math"
   ]
  },
  {
   "cell_type": "markdown",
   "metadata": {},
   "source": [
    "## Creating Tensors\n",
    "\n",
    "The simplest way to create a tensor is with the ``torch.empty()`` call:\n",
    "\n",
    "\n"
   ]
  },
  {
   "cell_type": "code",
   "execution_count": 4,
   "metadata": {},
   "outputs": [
    {
     "name": "stdout",
     "output_type": "stream",
     "text": [
      "<class 'torch.Tensor'>\n",
      "tensor([[0., 0., 0., 0.],\n",
      "        [0., 0., 0., 0.],\n",
      "        [0., 0., 0., 0.]])\n"
     ]
    }
   ],
   "source": [
    "x = torch.empty(3, 4)\n",
    "print(type(x))\n",
    "print(x)"
   ]
  },
  {
   "cell_type": "markdown",
   "metadata": {},
   "source": [
    "Let’s unpack what we just did:\n",
    "\n",
    "-  We created a tensor using one of the numerous factory methods\n",
    "   attached to the ``torch`` module.\n",
    "-  The tensor itself is 2-dimensional, having 3 rows and 4 columns.\n",
    "-  The type of the object returned is ``torch.Tensor``, which is an\n",
    "   alias for ``torch.FloatTensor``; by default, PyTorch tensors are\n",
    "   populated with 32-bit floating point numbers. (More on data types\n",
    "   below.)\n",
    "-  You will probably see some random-looking values when printing your\n",
    "   tensor. The ``torch.empty()`` call allocates memory for the tensor,\n",
    "   but does not initialize it with any values - so what you’re seeing is\n",
    "   whatever was in memory at the time of allocation.\n",
    "\n",
    "A brief note about tensors and their number of dimensions, and\n",
    "terminology:\n",
    "\n",
    "-  You will sometimes see a 1-dimensional tensor called a\n",
    "   *vector.* \n",
    "-  Likewise, a 2-dimensional tensor is often referred to as a\n",
    "   *matrix.* \n",
    "-  Anything with more than two dimensions is generally just\n",
    "   called a tensor.\n",
    "\n",
    "More often than not, you’ll want to initialize your tensor with some\n",
    "value. Common cases are all zeros, all ones, or random values, and the\n",
    "``torch`` module provides factory methods for all of these:\n",
    "\n",
    "\n"
   ]
  },
  {
   "cell_type": "code",
   "execution_count": 5,
   "metadata": {},
   "outputs": [
    {
     "name": "stdout",
     "output_type": "stream",
     "text": [
      "tensor([[0., 0., 0.],\n",
      "        [0., 0., 0.]])\n",
      "tensor([[1., 1., 1.],\n",
      "        [1., 1., 1.]])\n"
     ]
    }
   ],
   "source": [
    "zeros = torch.zeros(2, 3)\n",
    "print(zeros)\n",
    "\n",
    "ones = torch.ones(2, 3)\n",
    "print(ones)\n",
    "\n",
    "torch.manual_seed(1729)\n",
    "random = torch.rand(2, 3)"
   ]
  },
  {
   "cell_type": "code",
   "execution_count": 6,
   "metadata": {},
   "outputs": [],
   "source": [
    "a = [1.0, 2.0, 1.0]"
   ]
  },
  {
   "cell_type": "code",
   "execution_count": 7,
   "metadata": {},
   "outputs": [
    {
     "data": {
      "text/plain": "1.0"
     },
     "execution_count": 7,
     "metadata": {},
     "output_type": "execute_result"
    }
   ],
   "source": [
    "a[0]"
   ]
  },
  {
   "cell_type": "code",
   "execution_count": 8,
   "metadata": {},
   "outputs": [
    {
     "data": {
      "text/plain": "[1.0, 2.0, 3.0]"
     },
     "execution_count": 8,
     "metadata": {},
     "output_type": "execute_result"
    }
   ],
   "source": [
    "a[2] = 3.0\n",
    "a"
   ]
  },
  {
   "cell_type": "code",
   "execution_count": 9,
   "metadata": {},
   "outputs": [
    {
     "data": {
      "text/plain": "tensor([1., 1., 1.])"
     },
     "execution_count": 9,
     "metadata": {},
     "output_type": "execute_result"
    }
   ],
   "source": [
    "import torch # <1>\n",
    "a = torch.ones(3) # <2>\n",
    "a"
   ]
  },
  {
   "cell_type": "code",
   "execution_count": 10,
   "metadata": {},
   "outputs": [
    {
     "data": {
      "text/plain": "tensor(1.)"
     },
     "execution_count": 10,
     "metadata": {},
     "output_type": "execute_result"
    }
   ],
   "source": [
    "a[1]"
   ]
  },
  {
   "cell_type": "code",
   "execution_count": 11,
   "metadata": {},
   "outputs": [
    {
     "data": {
      "text/plain": "1.0"
     },
     "execution_count": 11,
     "metadata": {},
     "output_type": "execute_result"
    }
   ],
   "source": [
    "float(a[1])"
   ]
  },
  {
   "cell_type": "code",
   "execution_count": 12,
   "metadata": {},
   "outputs": [
    {
     "data": {
      "text/plain": "tensor([1., 1., 2.])"
     },
     "execution_count": 12,
     "metadata": {},
     "output_type": "execute_result"
    }
   ],
   "source": [
    "a[2] = 2.0\n",
    "a"
   ]
  },
  {
   "cell_type": "code",
   "execution_count": 13,
   "metadata": {},
   "outputs": [],
   "source": [
    "points = torch.zeros(6) # <1>\n",
    "points[0] = 4.0 # <2>\n",
    "points[1] = 1.0\n",
    "points[2] = 5.0\n",
    "points[3] = 3.0\n",
    "points[4] = 2.0\n",
    "points[5] = 1.0"
   ]
  },
  {
   "cell_type": "code",
   "execution_count": 14,
   "metadata": {},
   "outputs": [
    {
     "data": {
      "text/plain": "tensor([4., 1., 5., 3., 2., 1.])"
     },
     "execution_count": 14,
     "metadata": {},
     "output_type": "execute_result"
    }
   ],
   "source": [
    "points = torch.tensor([4.0, 1.0, 5.0, 3.0, 2.0, 1.0])\n",
    "points"
   ]
  },
  {
   "cell_type": "code",
   "execution_count": 15,
   "metadata": {},
   "outputs": [
    {
     "data": {
      "text/plain": "(4.0, 1.0)"
     },
     "execution_count": 15,
     "metadata": {},
     "output_type": "execute_result"
    }
   ],
   "source": [
    "float(points[0]), float(points[1])"
   ]
  },
  {
   "cell_type": "code",
   "execution_count": 16,
   "metadata": {},
   "outputs": [
    {
     "data": {
      "text/plain": "tensor([[4., 1.],\n        [5., 3.],\n        [2., 1.]])"
     },
     "execution_count": 16,
     "metadata": {},
     "output_type": "execute_result"
    }
   ],
   "source": [
    "points = torch.tensor([[4.0, 1.0], [5.0, 3.0], [2.0, 1.0]])\n",
    "points"
   ]
  },
  {
   "cell_type": "code",
   "execution_count": 17,
   "metadata": {},
   "outputs": [
    {
     "data": {
      "text/plain": "torch.Size([3, 2])"
     },
     "execution_count": 17,
     "metadata": {},
     "output_type": "execute_result"
    }
   ],
   "source": [
    "points.shape"
   ]
  },
  {
   "cell_type": "code",
   "execution_count": 18,
   "metadata": {},
   "outputs": [
    {
     "data": {
      "text/plain": "tensor([[0., 0.],\n        [0., 0.],\n        [0., 0.]])"
     },
     "execution_count": 18,
     "metadata": {},
     "output_type": "execute_result"
    }
   ],
   "source": [
    "points = torch.zeros(3, 2)\n",
    "points"
   ]
  },
  {
   "cell_type": "code",
   "execution_count": 19,
   "metadata": {},
   "outputs": [
    {
     "data": {
      "text/plain": "tensor([[4., 1.],\n        [5., 3.],\n        [2., 1.]])"
     },
     "execution_count": 19,
     "metadata": {},
     "output_type": "execute_result"
    }
   ],
   "source": [
    "points = torch.tensor([[4.0, 1.0], [5.0, 3.0], [2.0, 1.0]])\n",
    "points"
   ]
  },
  {
   "cell_type": "code",
   "execution_count": 20,
   "metadata": {},
   "outputs": [
    {
     "data": {
      "text/plain": "tensor(1.)"
     },
     "execution_count": 20,
     "metadata": {},
     "output_type": "execute_result"
    }
   ],
   "source": [
    "points[0, 1]"
   ]
  },
  {
   "cell_type": "code",
   "execution_count": 21,
   "metadata": {},
   "outputs": [
    {
     "data": {
      "text/plain": "tensor([4., 1.])"
     },
     "execution_count": 21,
     "metadata": {},
     "output_type": "execute_result"
    }
   ],
   "source": [
    "points[0]"
   ]
  },
  {
   "cell_type": "markdown",
   "metadata": {},
   "source": [
    "The factory methods all do just what you’d expect - we have a tensor\n",
    "full of zeros, another full of ones, and another with random values\n",
    "between 0 and 1.\n",
    "\n",
    "### Random Tensors and Seeding\n",
    "\n",
    "Speaking of the random tensor, did you notice the call to\n",
    "``torch.manual_seed()`` immediately preceding it? Initializing tensors,\n",
    "such as a model’s learning weights, with random values is common but\n",
    "there are times - especially in research settings - where you’ll want\n",
    "some assurance of the reproducibility of your results. Manually setting\n",
    "your random number generator’s seed is the way to do this. Let’s look\n",
    "more closely:\n",
    "\n",
    "\n"
   ]
  },
  {
   "cell_type": "code",
   "execution_count": 22,
   "metadata": {},
   "outputs": [
    {
     "name": "stdout",
     "output_type": "stream",
     "text": [
      "tensor([[0.3126, 0.3791, 0.3087],\n",
      "        [0.0736, 0.4216, 0.0691]])\n",
      "tensor([[0.2332, 0.4047, 0.2162],\n",
      "        [0.9927, 0.4128, 0.5938]])\n",
      "\n",
      "tensor([[0.3126, 0.3791, 0.3087],\n",
      "        [0.0736, 0.4216, 0.0691]])\n",
      "tensor([[0.2332, 0.4047, 0.2162],\n",
      "        [0.9927, 0.4128, 0.5938]])\n"
     ]
    }
   ],
   "source": [
    "torch.manual_seed(1729)\n",
    "random1 = torch.rand(2, 3)\n",
    "print(random1)\n",
    "\n",
    "random2 = torch.rand(2, 3)\n",
    "print(random2)\n",
    "\n",
    "print()\n",
    "\n",
    "torch.manual_seed(1729)\n",
    "random3 = torch.rand(2, 3)\n",
    "print(random3)\n",
    "\n",
    "random4 = torch.rand(2, 3)\n",
    "print(random4)"
   ]
  },
  {
   "cell_type": "markdown",
   "metadata": {},
   "source": [
    "What you should see above is that ``random1`` and ``random3`` carry\n",
    "identical values, as do ``random2`` and ``random4``. Manually setting\n",
    "the RNG’s seed resets it, so that identical computations depending on\n",
    "random number should, in most settings, provide identical results.\n",
    "\n",
    "For more information, see the [PyTorch documentation on\n",
    "reproducibility](https://pytorch.org/docs/stable/notes/randomness.html)_.\n",
    "\n",
    "### Tensor Shapes\n",
    "\n",
    "Often, when you’re performing operations on two or more tensors, they\n",
    "will need to be of the same *shape* - that is, having the same number of\n",
    "dimensions and the same number of cells in each dimension. For that, we\n",
    "have the ``torch.*_like()`` methods:\n",
    "\n",
    "\n"
   ]
  },
  {
   "cell_type": "code",
   "execution_count": 23,
   "metadata": {},
   "outputs": [
    {
     "name": "stdout",
     "output_type": "stream",
     "text": [
      "torch.Size([2, 2, 3])\n",
      "tensor([[[0., 0., 0.],\n",
      "         [0., 0., 0.]],\n",
      "\n",
      "        [[0., 0., 0.],\n",
      "         [0., 0., 0.]]])\n"
     ]
    }
   ],
   "source": [
    "x = torch.empty(2, 2, 3)\n",
    "print(x.shape)\n",
    "print(x)"
   ]
  },
  {
   "cell_type": "code",
   "execution_count": 24,
   "metadata": {},
   "outputs": [
    {
     "name": "stdout",
     "output_type": "stream",
     "text": [
      "torch.Size([2, 2, 3])\n",
      "tensor([[[0., 0., 0.],\n",
      "         [0., 0., 0.]],\n",
      "\n",
      "        [[0., 0., 0.],\n",
      "         [0., 0., 0.]]])\n"
     ]
    }
   ],
   "source": [
    "empty_like_x = torch.empty_like(x)\n",
    "print(empty_like_x.shape)\n",
    "print(empty_like_x)"
   ]
  },
  {
   "cell_type": "code",
   "execution_count": 25,
   "metadata": {},
   "outputs": [
    {
     "name": "stdout",
     "output_type": "stream",
     "text": [
      "torch.Size([2, 2, 3])\n",
      "tensor([[[0., 0., 0.],\n",
      "         [0., 0., 0.]],\n",
      "\n",
      "        [[0., 0., 0.],\n",
      "         [0., 0., 0.]]])\n"
     ]
    }
   ],
   "source": [
    "zeros_like_x = torch.zeros_like(x)\n",
    "print(zeros_like_x.shape)\n",
    "print(zeros_like_x)"
   ]
  },
  {
   "cell_type": "code",
   "execution_count": 26,
   "metadata": {},
   "outputs": [
    {
     "name": "stdout",
     "output_type": "stream",
     "text": [
      "torch.Size([2, 2, 3])\n",
      "tensor([[[1., 1., 1.],\n",
      "         [1., 1., 1.]],\n",
      "\n",
      "        [[1., 1., 1.],\n",
      "         [1., 1., 1.]]])\n"
     ]
    }
   ],
   "source": [
    "ones_like_x = torch.ones_like(x)\n",
    "print(ones_like_x.shape)\n",
    "print(ones_like_x)"
   ]
  },
  {
   "cell_type": "code",
   "execution_count": 27,
   "metadata": {},
   "outputs": [
    {
     "name": "stdout",
     "output_type": "stream",
     "text": [
      "torch.Size([2, 2, 3])\n",
      "tensor([[[0.6128, 0.1519, 0.0453],\n",
      "         [0.5035, 0.9978, 0.3884]],\n",
      "\n",
      "        [[0.6929, 0.1703, 0.1384],\n",
      "         [0.4759, 0.7481, 0.0361]]])\n"
     ]
    }
   ],
   "source": [
    "rand_like_x = torch.rand_like(x)\n",
    "print(rand_like_x.shape)\n",
    "print(rand_like_x)"
   ]
  },
  {
   "cell_type": "markdown",
   "metadata": {},
   "source": [
    "The first new thing in the code cell above is the use of the ``.shape``\n",
    "property on a tensor. This property contains a list of the extent of\n",
    "each dimension of a tensor - in our case, ``x`` is a three-dimensional\n",
    "tensor with shape 2 x 2 x 3.\n",
    "\n",
    "Below that, we call the ``.empty_like()``, ``.zeros_like()``,\n",
    "``.ones_like()``, and ``.rand_like()`` methods. Using the ``.shape``\n",
    "property, we can verify that each of these methods returns a tensor of\n",
    "identical dimensionality and extent.\n",
    "\n",
    "The last way to create a tensor that will cover is to specify its data\n",
    "directly from a Python collection:\n",
    "\n",
    "\n"
   ]
  },
  {
   "cell_type": "code",
   "execution_count": 28,
   "metadata": {},
   "outputs": [
    {
     "name": "stdout",
     "output_type": "stream",
     "text": [
      "tensor([[3.1416, 2.7183],\n",
      "        [1.6180, 0.0073]])\n",
      "tensor([ 2,  3,  5,  7, 11, 13, 17, 19])\n",
      "tensor([[2, 4, 6],\n",
      "        [3, 6, 9]])\n"
     ]
    }
   ],
   "source": [
    "some_constants = torch.tensor([[3.1415926, 2.71828], [1.61803, 0.0072897]])\n",
    "print(some_constants)\n",
    "\n",
    "some_integers = torch.tensor((2, 3, 5, 7, 11, 13, 17, 19))\n",
    "print(some_integers)\n",
    "\n",
    "more_integers = torch.tensor(((2, 4, 6), [3, 6, 9]))\n",
    "print(more_integers)"
   ]
  },
  {
   "cell_type": "markdown",
   "metadata": {},
   "source": [
    "Using ``torch.tensor()`` is the most straightforward way to create a\n",
    "tensor if you already have data in a Python tuple or list. As shown\n",
    "above, nesting the collections will result in a multi-dimensional\n",
    "tensor.\n",
    "\n",
    "### Tensor Data Types\n",
    "\n",
    "Setting the datatype of a tensor is possible a couple of ways:\n",
    "\n",
    "\n"
   ]
  },
  {
   "cell_type": "code",
   "execution_count": 29,
   "metadata": {},
   "outputs": [
    {
     "name": "stdout",
     "output_type": "stream",
     "text": [
      "tensor([[1, 1, 1],\n",
      "        [1, 1, 1]], dtype=torch.int16)\n",
      "\n",
      "tensor([[ 0.9956,  1.4148,  5.8364],\n",
      "        [11.2406, 11.2083, 11.6692]], dtype=torch.float64)\n",
      "\n",
      "tensor([[ 0,  1,  5],\n",
      "        [11, 11, 11]], dtype=torch.int32)\n"
     ]
    }
   ],
   "source": [
    "a = torch.ones((2, 3), dtype=torch.int16)\n",
    "print(a, end=\"\\n\\n\")\n",
    "\n",
    "b = torch.rand((2, 3), dtype=torch.float64) * 20.\n",
    "print(b, end=\"\\n\\n\")\n",
    "\n",
    "c = b.to(torch.int32)\n",
    "print(c)"
   ]
  },
  {
   "cell_type": "code",
   "execution_count": 30,
   "metadata": {},
   "outputs": [],
   "source": [
    "double_points = torch.ones(10, 2, dtype=torch.double)\n",
    "short_points = torch.tensor([[1, 2], [3, 4]], dtype=torch.short)"
   ]
  },
  {
   "cell_type": "code",
   "execution_count": 31,
   "metadata": {},
   "outputs": [
    {
     "data": {
      "text/plain": "torch.int16"
     },
     "execution_count": 31,
     "metadata": {},
     "output_type": "execute_result"
    }
   ],
   "source": [
    "short_points.dtype"
   ]
  },
  {
   "cell_type": "code",
   "execution_count": 32,
   "metadata": {},
   "outputs": [],
   "source": [
    "double_points = torch.zeros(10, 2).double()\n",
    "short_points = torch.ones(10, 2).short()"
   ]
  },
  {
   "cell_type": "code",
   "execution_count": 33,
   "metadata": {},
   "outputs": [],
   "source": [
    "double_points = torch.zeros(10, 2).to(torch.double)\n",
    "short_points = torch.ones(10, 2).to(dtype=torch.short)"
   ]
  },
  {
   "cell_type": "code",
   "execution_count": 34,
   "metadata": {},
   "outputs": [
    {
     "data": {
      "text/plain": "tensor([0., 0., 0., 0., 0.], dtype=torch.float64)"
     },
     "execution_count": 34,
     "metadata": {},
     "output_type": "execute_result"
    }
   ],
   "source": [
    "points_64 = torch.rand(5, dtype=torch.double)  # <1>\n",
    "points_short = points_64.to(torch.short)\n",
    "points_64 * points_short  # works from PyTorch 1.3 onwards"
   ]
  },
  {
   "cell_type": "markdown",
   "metadata": {},
   "source": [
    "The simplest way to set the underlying data type of a tensor is with an\n",
    "optional argument at creation time. In the first line of the cell above,\n",
    "we set ``dtype=torch.int16`` for the tensor ``a``. When we print ``a``,\n",
    "we can see that it’s full of ``1`` rather than ``1.`` - Python’s subtle\n",
    "cue that this is an integer type rather than floating point.\n",
    "\n",
    "Another thing to notice about printing ``a`` is that, unlike when we\n",
    "left ``dtype`` as the default (32-bit floating point), printing the\n",
    "tensor also specifies its ``dtype``.\n",
    "\n",
    "The other way to set the datatype is with the ``.to()`` method. In the\n",
    "cell above, we create a random floating point tensor ``b`` in the usual\n",
    "way. Following that, we create ``c`` by converting ``b`` to a 32-bit\n",
    "integer with the ``.to()`` method. Note that ``c`` contains all the same\n",
    "values as ``b``, but truncated to integers.\n",
    "\n",
    "Available data types include:\n",
    "\n",
    "-  ``torch.bool``\n",
    "-  ``torch.int8``\n",
    "-  ``torch.uint8``\n",
    "-  ``torch.int16``\n",
    "-  ``torch.int32``\n",
    "-  ``torch.int64``\n",
    "-  ``torch.half``\n",
    "-  ``torch.float``\n",
    "-  ``torch.double``\n",
    "-  ``torch.bfloat``\n",
    "\n",
    "## Math & Logic with PyTorch Tensors\n",
    "\n",
    "Now that you know some of the ways to create a tensor… what can you do\n",
    "with them?\n",
    "\n",
    "Let’s look at basic arithmetic first, and how tensors interact with\n",
    "simple scalars:\n",
    "\n",
    "\n"
   ]
  },
  {
   "cell_type": "code",
   "execution_count": 35,
   "metadata": {},
   "outputs": [
    {
     "name": "stdout",
     "output_type": "stream",
     "text": [
      "tensor([[1., 1.],\n",
      "        [1., 1.]])\n",
      "tensor([[2., 2.],\n",
      "        [2., 2.]])\n",
      "tensor([[3., 3.],\n",
      "        [3., 3.]])\n",
      "tensor([[4., 4.],\n",
      "        [4., 4.]])\n",
      "tensor([[1.4142, 1.4142],\n",
      "        [1.4142, 1.4142]])\n"
     ]
    }
   ],
   "source": [
    "ones = torch.zeros(2, 2) + 1\n",
    "twos = torch.ones(2, 2) * 2\n",
    "threes = (torch.ones(2, 2) * 7 - 1) / 2\n",
    "fours = twos ** 2\n",
    "sqrt2s = twos ** 0.5\n",
    "\n",
    "print(ones)\n",
    "print(twos)\n",
    "print(threes)\n",
    "print(fours)\n",
    "print(sqrt2s)"
   ]
  },
  {
   "cell_type": "markdown",
   "metadata": {},
   "source": [
    "As you can see above, arithmetic operations between tensors and scalars,\n",
    "such as addition, subtraction, multiplication, division, and\n",
    "exponentiation are <u>**distributed over every element of the tensor**</u>. Because\n",
    "the output of such an operation will be a tensor, you can chain them\n",
    "together with the usual operator precedence rules, as in the line where\n",
    "we create ``threes``.\n",
    "\n",
    "Similar operations between two tensors also behave like you’d\n",
    "intuitively expect:\n",
    "\n",
    "\n"
   ]
  },
  {
   "cell_type": "code",
   "execution_count": 36,
   "metadata": {},
   "outputs": [
    {
     "name": "stdout",
     "output_type": "stream",
     "text": [
      "tensor([[ 2.,  4.],\n",
      "        [ 8., 16.]])\n",
      "\n",
      "tensor([[5., 5.],\n",
      "        [5., 5.]])\n",
      "\n",
      "tensor([[12., 12.],\n",
      "        [12., 12.]])\n",
      "\n"
     ]
    }
   ],
   "source": [
    "powers2 = twos ** torch.tensor([[1, 2], [3, 4]])\n",
    "print(powers2, end=\"\\n\\n\")\n",
    "\n",
    "fives = ones + fours\n",
    "print(fives, end=\"\\n\\n\")\n",
    "\n",
    "dozens = threes * fours\n",
    "print(dozens, end=\"\\n\\n\")"
   ]
  },
  {
   "cell_type": "markdown",
   "metadata": {},
   "source": [
    "It’s important to note here that all of the tensors in the previous code\n",
    "cell were of identical shape. What happens when we try to perform a\n",
    "binary operation on tensors if dissimilar shape?\n",
    "\n",
    "<div class=\"alert alert-info\"><h4>Note</h4><p>The following cell throws a run-time error. This is intentional.</p></div>\n",
    "\n",
    "::\n",
    "\n",
    "   a = torch.rand(2, 3)\n",
    "   b = torch.rand(3, 2)\n",
    "\n",
    "   print(a * b)\n",
    "\n",
    "\n"
   ]
  },
  {
   "cell_type": "markdown",
   "metadata": {},
   "source": [
    "In the general case, you cannot operate on tensors of different shape\n",
    "this way, even in a case like the cell above, where the tensors have an\n",
    "identical number of elements.\n",
    "\n",
    "### In Brief: Tensor Broadcasting\n",
    "\n",
    "<div class=\"alert alert-info\"><h4>Note</h4><p>If you are familiar with broadcasting semantics in NumPy\n",
    "     ndarrays, you’ll find the same rules apply here.</p></div>\n",
    "\n",
    "The exception to the same-shapes rule is *tensor broadcasting.* Here’s\n",
    "an example:\n",
    "\n",
    "\n"
   ]
  },
  {
   "cell_type": "code",
   "execution_count": 37,
   "metadata": {},
   "outputs": [
    {
     "name": "stdout",
     "output_type": "stream",
     "text": [
      "tensor([[0.4762, 0.0548, 0.2024, 0.5731],\n",
      "        [0.7191, 0.4067, 0.7301, 0.6276]])\n",
      "tensor([[0.9524, 0.1096, 0.4049, 1.1461],\n",
      "        [1.4382, 0.8134, 1.4602, 1.2551]])\n"
     ]
    }
   ],
   "source": [
    "rand = torch.rand(2, 4)\n",
    "doubled = rand * (torch.ones(1, 4) * 2)\n",
    "\n",
    "print(rand)\n",
    "print(doubled)"
   ]
  },
  {
   "cell_type": "markdown",
   "metadata": {},
   "source": [
    "What’s the trick here? How is it we got to multiply a 2x4 tensor by a\n",
    "1x4 tensor?\n",
    "\n",
    "Broadcasting is a way to perform an operation between tensors that have\n",
    "similarities in their shapes. In the example above, the one-row,\n",
    "four-column tensor is multiplied by *both rows* of the two-row,\n",
    "four-column tensor.\n",
    "\n",
    "This is an important operation in Deep Learning. The common example is\n",
    "multiplying a tensor of learning weights by a *batch* of input tensors,\n",
    "applying the operation to each instance in the batch separately, and\n",
    "returning a tensor of identical shape - just like our (2, 4) \\* (1, 4)\n",
    "example above returned a tensor of shape (2, 4).\n",
    "\n",
    "The rules for broadcasting are:\n",
    "\n",
    "-  Each tensor must have at least one dimension - no empty tensors.\n",
    "\n",
    "-  Comparing the dimension sizes of the two tensors, *going from last to\n",
    "   first:*\n",
    "\n",
    "   -  Each dimension must be equal, *or*\n",
    "\n",
    "   -  One of the dimensions must be of size 1, *or*\n",
    "\n",
    "   -  The dimension does not exist in one of the tensors\n",
    "\n",
    "Tensors of identical shape, of course, are trivially “broadcastable”, as\n",
    "you saw earlier.\n",
    "\n",
    "Here are some examples of situations that honor the above rules and\n",
    "allow broadcasting:\n",
    "\n",
    "\n"
   ]
  },
  {
   "cell_type": "code",
   "execution_count": 38,
   "metadata": {},
   "outputs": [
    {
     "name": "stdout",
     "output_type": "stream",
     "text": [
      "tensor([[[0.7357, 0.0381],\n",
      "         [0.2138, 0.5395],\n",
      "         [0.3686, 0.4007]],\n",
      "\n",
      "        [[0.7357, 0.0381],\n",
      "         [0.2138, 0.5395],\n",
      "         [0.3686, 0.4007]],\n",
      "\n",
      "        [[0.7357, 0.0381],\n",
      "         [0.2138, 0.5395],\n",
      "         [0.3686, 0.4007]],\n",
      "\n",
      "        [[0.7357, 0.0381],\n",
      "         [0.2138, 0.5395],\n",
      "         [0.3686, 0.4007]]])\n"
     ]
    }
   ],
   "source": [
    "a =     torch.ones(4, 3, 2)\n",
    "b = a * torch.rand(   3, 2) # 3rd & 2nd dims identical to a, dim 1 absent\n",
    "print(b)"
   ]
  },
  {
   "cell_type": "code",
   "execution_count": 39,
   "metadata": {},
   "outputs": [
    {
     "name": "stdout",
     "output_type": "stream",
     "text": [
      "tensor([[[0.7220, 0.7220],\n",
      "         [0.8217, 0.8217],\n",
      "         [0.2612, 0.2612]],\n",
      "\n",
      "        [[0.7220, 0.7220],\n",
      "         [0.8217, 0.8217],\n",
      "         [0.2612, 0.2612]],\n",
      "\n",
      "        [[0.7220, 0.7220],\n",
      "         [0.8217, 0.8217],\n",
      "         [0.2612, 0.2612]],\n",
      "\n",
      "        [[0.7220, 0.7220],\n",
      "         [0.8217, 0.8217],\n",
      "         [0.2612, 0.2612]]])\n"
     ]
    }
   ],
   "source": [
    "a =     torch.ones(4, 3, 2)\n",
    "c = a * torch.rand(   3, 1) # 3rd dim = 1, 2nd dim identical to a\n",
    "print(c)"
   ]
  },
  {
   "cell_type": "code",
   "execution_count": 40,
   "metadata": {},
   "outputs": [
    {
     "name": "stdout",
     "output_type": "stream",
     "text": [
      "tensor([[[0.7375, 0.8328],\n",
      "         [0.7375, 0.8328],\n",
      "         [0.7375, 0.8328]],\n",
      "\n",
      "        [[0.7375, 0.8328],\n",
      "         [0.7375, 0.8328],\n",
      "         [0.7375, 0.8328]],\n",
      "\n",
      "        [[0.7375, 0.8328],\n",
      "         [0.7375, 0.8328],\n",
      "         [0.7375, 0.8328]],\n",
      "\n",
      "        [[0.7375, 0.8328],\n",
      "         [0.7375, 0.8328],\n",
      "         [0.7375, 0.8328]]])\n"
     ]
    }
   ],
   "source": [
    "a =     torch.ones(4, 3, 2)\n",
    "d = a * torch.rand(   1, 2) # 3rd dim identical to a, 2nd dim = 1\n",
    "print(d)"
   ]
  },
  {
   "cell_type": "markdown",
   "metadata": {},
   "source": [
    "Look closely at the values of each tensor above: \n",
    "\n",
    "-  The multiplication operation that created ``b`` was \n",
    "   broadcast over every “layer” of ``a``.\n",
    "-  For ``c``, the operation was broadcast over ever layer and row of\n",
    "   ``a`` - every 3-element column is identical. \n",
    "-  For ``d``, we switched it around - now every *row* is identical,\n",
    "   across layers and columns.\n",
    "\n",
    "For more information on broadcasting, see the [PyTorch\n",
    "documentation](https://pytorch.org/docs/stable/notes/broadcasting.html)_\n",
    "on the topic.\n",
    "\n",
    "Here are some examples of attempts at broadcasting that will fail:\n",
    "\n",
    "<div class=\"alert alert-info\"><h4>Note</h4><p>The following cell throws a run-time error. This is intentional.</p></div>\n",
    "\n",
    "::\n",
    "\n",
    "   a =     torch.ones(4, 3, 2)\n",
    "\n",
    "   b = a * torch.rand(4, 3)    # dimensions must match last-to-first\n",
    "\n",
    "   c = a * torch.rand(   2, 3) # both 3rd & 2nd dims different\n",
    "\n",
    "   d = a * torch.rand((0, ))   # can't broadcast with an empty tensor\n",
    "\n",
    "\n"
   ]
  },
  {
   "cell_type": "markdown",
   "metadata": {},
   "source": [
    "### More Math with Tensors\n",
    "\n",
    "PyTorch tensors have over three hundred operations that can be performed\n",
    "on them.\n",
    "\n",
    "Here is a small sample from some of the major categories of operations:\n",
    "\n",
    "\n"
   ]
  },
  {
   "cell_type": "code",
   "execution_count": 41,
   "metadata": {},
   "outputs": [
    {
     "name": "stdout",
     "output_type": "stream",
     "text": [
      "Common functions:\n",
      "tensor([[0.6888, 0.4118, 0.2424, 0.0866],\n",
      "        [0.8702, 0.3355, 0.5652, 0.7337]])\n",
      "tensor([[1., -0., -0., -0.],\n",
      "        [-0., 1., 1., -0.]])\n",
      "tensor([[ 0., -1., -1., -1.],\n",
      "        [-1.,  0.,  0., -1.]])\n",
      "tensor([[ 0.5000, -0.4118, -0.2424, -0.0866],\n",
      "        [-0.5000,  0.3355,  0.5000, -0.5000]])\n"
     ]
    }
   ],
   "source": [
    "# common functions\n",
    "a = torch.rand(2, 4) * 2 - 1\n",
    "print('Common functions:')\n",
    "print(torch.abs(a))\n",
    "print(torch.ceil(a))\n",
    "print(torch.floor(a))\n",
    "print(torch.clamp(a, -0.5, 0.5))"
   ]
  },
  {
   "cell_type": "code",
   "execution_count": 42,
   "metadata": {},
   "outputs": [
    {
     "name": "stdout",
     "output_type": "stream",
     "text": [
      "\n",
      "Sine and arcsine:\n",
      "tensor([0.0000, 0.7854, 1.5708, 2.3562])\n",
      "tensor([0.0000, 0.7071, 1.0000, 0.7071])\n",
      "tensor([0.0000, 0.7854, 1.5708, 0.7854])\n",
      "\n",
      "Bitwise XOR:\n",
      "tensor([3, 2, 1])\n"
     ]
    }
   ],
   "source": [
    "# trigonometric functions and their inverses\n",
    "angles = torch.tensor([0, math.pi / 4, math.pi / 2, 3 * math.pi / 4])\n",
    "sines = torch.sin(angles)\n",
    "inverses = torch.asin(sines)\n",
    "print('\\nSine and arcsine:')\n",
    "print(angles)\n",
    "print(sines)\n",
    "print(inverses)\n",
    "\n",
    "# bitwise operations\n",
    "print('\\nBitwise XOR:')\n",
    "b = torch.tensor([1, 5, 11])\n",
    "c = torch.tensor([2, 7, 10])\n",
    "print(torch.bitwise_xor(b, c))"
   ]
  },
  {
   "cell_type": "code",
   "execution_count": 43,
   "metadata": {},
   "outputs": [
    {
     "name": "stdout",
     "output_type": "stream",
     "text": [
      "\n",
      "Broadcasted, element-wise equality comparison:\n",
      "tensor([[ True, False],\n",
      "        [False, False]])\n"
     ]
    }
   ],
   "source": [
    "# comparisons:\n",
    "print('\\nBroadcasted, element-wise equality comparison:')\n",
    "d = torch.tensor([[1., 2.], [3., 4.]])\n",
    "e = torch.ones(1, 2)  # many comparison ops support broadcasting!\n",
    "print(torch.eq(d, e)) # returns a tensor of type bool"
   ]
  },
  {
   "cell_type": "code",
   "execution_count": 44,
   "metadata": {},
   "outputs": [
    {
     "name": "stdout",
     "output_type": "stream",
     "text": [
      "\n",
      "Reduction ops:\n",
      "tensor(4.)\n",
      "4.0\n",
      "tensor(2.5000)\n",
      "tensor(1.2910)\n",
      "tensor(24.)\n",
      "tensor([1, 2])\n"
     ]
    }
   ],
   "source": [
    "# reductions:\n",
    "print('\\nReduction ops:')\n",
    "print(torch.max(d))        # returns a single-element tensor\n",
    "print(torch.max(d).item()) # extracts the value from the returned tensor\n",
    "print(torch.mean(d))       # average\n",
    "print(torch.std(d))        # standard deviation\n",
    "print(torch.prod(d))       # product of all numbers\n",
    "print(torch.unique(torch.tensor([1, 2, 1, 2, 1, 2]))) # filter unique elements"
   ]
  },
  {
   "cell_type": "code",
   "execution_count": 45,
   "metadata": {},
   "outputs": [
    {
     "name": "stdout",
     "output_type": "stream",
     "text": [
      "\n",
      "Vectors & Matrices:\n",
      "tensor([ 0.,  0., -1.])\n",
      "\n",
      "tensor([[0.0023, 0.4945],\n",
      "        [0.3857, 0.9883]])\n",
      "\n",
      "tensor([[0.0068, 1.4835],\n",
      "        [1.1572, 2.9650]])\n",
      "\n",
      "torch.return_types.svd(\n",
      "U=tensor([[-0.4069, -0.9135],\n",
      "        [-0.9135,  0.4069]]),\n",
      "S=tensor([3.4775, 0.4879]),\n",
      "V=tensor([[-0.3048,  0.9524],\n",
      "        [-0.9524, -0.3048]]))\n",
      "\n"
     ]
    }
   ],
   "source": [
    "# vector and linear algebra operations\n",
    "v1 = torch.tensor([1., 0., 0.])         # x unit vector\n",
    "v2 = torch.tensor([0., 1., 0.])         # y unit vector\n",
    "m1 = torch.rand(2, 2)                   # random matrix\n",
    "m2 = torch.tensor([[3., 0.], [0., 3.]]) # three times identity matrix\n",
    "print('\\nVectors & Matrices:')\n",
    "print(torch.cross(v2, v1), end=\"\\n\\n\") # negative of z unit vector (v1 x v2 == -v2 x v1)\n",
    "print(m1, end=\"\\n\\n\")\n",
    "m3 = torch.matmul(m1, m2)\n",
    "print(m3, end=\"\\n\\n\")                  # 3 times m1\n",
    "print(torch.svd(m3), end=\"\\n\\n\")       # singular value decomposition"
   ]
  },
  {
   "cell_type": "markdown",
   "metadata": {},
   "source": [
    "This is a small sample of operations. For more details and the full inventory of\n",
    "math functions, have a look at the\n",
    "[documentation](https://pytorch.org/docs/stable/torch.html#math-operations)_.\n",
    "\n",
    "### Altering Tensors in Place\n",
    "\n",
    "Most binary operations on tensors will return a third, new tensor. When\n",
    "we say ``c = a * b`` (where ``a`` and ``b`` are tensors), the new tensor\n",
    "``c`` will occupy a region of memory distinct from the other tensors.\n",
    "\n",
    "There are times, though, that you may wish to alter a tensor in place -\n",
    "for example, if you’re doing an element-wise computation where you can\n",
    "discard intermediate values. For this, most of the math functions have a\n",
    "version with an appended underscore (``_``) that will alter a tensor in\n",
    "place.\n",
    "\n",
    "For example:\n",
    "\n",
    "\n"
   ]
  },
  {
   "cell_type": "code",
   "execution_count": 46,
   "metadata": {},
   "outputs": [
    {
     "name": "stdout",
     "output_type": "stream",
     "text": [
      "a:\n",
      "tensor([0.0000, 0.7854, 1.5708, 2.3562])\n",
      "tensor([0.0000, 0.7071, 1.0000, 0.7071])\n",
      "tensor([0.0000, 0.7854, 1.5708, 2.3562])\n",
      "\n",
      "b:\n",
      "tensor([0.0000, 0.7854, 1.5708, 2.3562])\n",
      "tensor([0.0000, 0.7071, 1.0000, 0.7071])\n",
      "tensor([0.0000, 0.7071, 1.0000, 0.7071])\n"
     ]
    }
   ],
   "source": [
    "a = torch.tensor([0, math.pi / 4, math.pi / 2, 3 * math.pi / 4])\n",
    "print('a:')\n",
    "print(a)\n",
    "print(torch.sin(a))   # this operation creates a new tensor in memory\n",
    "print(a)              # a has not changed\n",
    "\n",
    "b = torch.tensor([0, math.pi / 4, math.pi / 2, 3 * math.pi / 4])\n",
    "print('\\nb:')\n",
    "print(b)\n",
    "print(torch.sin_(b))  # note the underscore\n",
    "print(b)              # b has changed"
   ]
  },
  {
   "cell_type": "markdown",
   "metadata": {},
   "source": [
    "For arithmetic operations, there are functions that behave similarly:\n",
    "\n",
    "\n"
   ]
  },
  {
   "cell_type": "code",
   "execution_count": 47,
   "metadata": {},
   "outputs": [
    {
     "name": "stdout",
     "output_type": "stream",
     "text": [
      "Before:\n",
      "tensor([[1., 1.],\n",
      "        [1., 1.]])\n",
      "tensor([[0.4762, 0.7242],\n",
      "        [0.0776, 0.4004]])\n",
      "\n",
      "After adding:\n",
      "tensor([[1.4762, 1.7242],\n",
      "        [1.0776, 1.4004]])\n",
      "tensor([[1.4762, 1.7242],\n",
      "        [1.0776, 1.4004]])\n",
      "tensor([[0.4762, 0.7242],\n",
      "        [0.0776, 0.4004]])\n",
      "\n",
      "After multiplying\n",
      "tensor([[0.2268, 0.5245],\n",
      "        [0.0060, 0.1603]])\n",
      "tensor([[0.2268, 0.5245],\n",
      "        [0.0060, 0.1603]])\n"
     ]
    }
   ],
   "source": [
    "a = torch.ones(2, 2)\n",
    "b = torch.rand(2, 2)\n",
    "\n",
    "print('Before:')\n",
    "print(a)\n",
    "print(b)\n",
    "print('\\nAfter adding:')\n",
    "print(a.add_(b))\n",
    "print(a)\n",
    "print(b)\n",
    "print('\\nAfter multiplying')\n",
    "print(b.mul_(b))\n",
    "print(b)"
   ]
  },
  {
   "cell_type": "markdown",
   "metadata": {},
   "source": [
    "Note that these in-place arithmetic functions are methods on the\n",
    "``torch.Tensor`` object, not attached to the ``torch`` module like many\n",
    "other functions (e.g., ``torch.sin()``). As you can see from\n",
    "``a.add_(b)``, *the calling tensor is the one that gets changed in\n",
    "place.*\n",
    "\n",
    "There is another option for placing the result of a computation in an\n",
    "existing, allocated tensor. Many of the methods and functions we’ve seen\n",
    "so far - including creation methods! - have an ``out`` argument that\n",
    "lets you specify a tensor to receive the output. If the ``out`` tensor\n",
    "is the correct shape and ``dtype``, this can happen without a new memory\n",
    "allocation:\n",
    "\n",
    "\n"
   ]
  },
  {
   "cell_type": "code",
   "execution_count": 48,
   "metadata": {},
   "outputs": [
    {
     "name": "stdout",
     "output_type": "stream",
     "text": [
      "tensor([[0., 0.],\n",
      "        [0., 0.]])\n",
      "tensor([[0.8877, 0.2761],\n",
      "        [0.3896, 0.3613]])\n",
      "tensor([[0.7746, 0.2330],\n",
      "        [0.8441, 0.9004]])\n"
     ]
    }
   ],
   "source": [
    "a = torch.rand(2, 2)\n",
    "b = torch.rand(2, 2)\n",
    "c = torch.zeros(2, 2)\n",
    "old_id = id(c)\n",
    "\n",
    "print(c)\n",
    "d = torch.matmul(a, b, out=c)\n",
    "print(c)                # contents of c have changed\n",
    "\n",
    "assert c is d           # test c & d are same object, not just containing equal values\n",
    "assert id(c) == old_id    # make sure that our new c is the same object as the old one\n",
    "\n",
    "torch.rand(2, 2, out=c) # works for creation too!\n",
    "print(c)                # c has changed again\n",
    "assert id(c) == old_id    # still the same object!"
   ]
  },
  {
   "cell_type": "markdown",
   "metadata": {},
   "source": [
    "## Copying Tensors\n",
    "\n",
    "As with any object in Python, assigning a tensor to a variable makes the\n",
    "variable a *label* of the tensor, and does not copy it. For example:\n",
    "\n",
    "\n"
   ]
  },
  {
   "cell_type": "code",
   "execution_count": 49,
   "metadata": {},
   "outputs": [
    {
     "name": "stdout",
     "output_type": "stream",
     "text": [
      "tensor([[  1., 561.],\n",
      "        [  1.,   1.]])\n"
     ]
    }
   ],
   "source": [
    "a = torch.ones(2, 2)\n",
    "b = a\n",
    "\n",
    "a[0][1] = 561  # we change a...\n",
    "print(b)       # ...and b is also altered"
   ]
  },
  {
   "cell_type": "markdown",
   "metadata": {},
   "source": [
    "But what if you want a separate copy of the data to work on? The\n",
    "``clone()`` method is there for you:\n",
    "\n",
    "\n"
   ]
  },
  {
   "cell_type": "code",
   "execution_count": 50,
   "metadata": {},
   "outputs": [
    {
     "name": "stdout",
     "output_type": "stream",
     "text": [
      "tensor([[True, True],\n",
      "        [True, True]])\n",
      "tensor([[1., 1.],\n",
      "        [1., 1.]])\n"
     ]
    }
   ],
   "source": [
    "a = torch.ones(2, 2)\n",
    "b = a.clone()\n",
    "\n",
    "assert b is not a      # different objects in memory...\n",
    "print(torch.eq(a, b))  # ...but still with the same contents!\n",
    "\n",
    "a[0][1] = 561          # a changes...\n",
    "print(b)               # ...but b is still all ones"
   ]
  },
  {
   "cell_type": "markdown",
   "metadata": {},
   "source": [
    "**There is an important thing to be aware of when using ``clone()``.**\n",
    "If your source tensor has autograd, enabled then so will the clone.\n",
    "**This will be covered more deeply in the video on autograd,** but if\n",
    "you want the light version of the details, continue on.\n",
    "\n",
    "*In many cases, this will be what you want.* For example, if your model\n",
    "has multiple computation paths in its ``forward()`` method, and *both*\n",
    "the original tensor and its clone contribute to the model’s output, then\n",
    "to enable model learning you want autograd turned on for both tensors.\n",
    "If your source tensor has autograd enabled (which it generally will if\n",
    "it’s a set of learning weights or derived from a computation involving\n",
    "the weights), then you’ll get the result you want.\n",
    "\n",
    "On the other hand, if you’re doing a computation where *neither* the\n",
    "original tensor nor its clone need to track gradients, then as long as\n",
    "the source tensor has autograd turned off, you’re good to go.\n",
    "\n",
    "*There is a third case,* though: Imagine you’re performing a computation\n",
    "in your model’s ``forward()`` function, where gradients are turned on\n",
    "for everything by default, but you want to pull out some values\n",
    "mid-stream to generate some metrics. In this case, you *don’t* want the\n",
    "cloned copy of your source tensor to track gradients - performance is\n",
    "improved with autograd’s history tracking turned off. For this, you can\n",
    "use the ``.detach()`` method on the source tensor:\n",
    "\n",
    "\n"
   ]
  },
  {
   "cell_type": "code",
   "execution_count": 51,
   "metadata": {},
   "outputs": [
    {
     "name": "stdout",
     "output_type": "stream",
     "text": [
      "tensor([[0.3995, 0.6324],\n",
      "        [0.9464, 0.0113]], requires_grad=True)\n",
      "\n",
      "tensor([[0.3995, 0.6324],\n",
      "        [0.9464, 0.0113]], grad_fn=<CloneBackward0>)\n",
      "\n",
      "tensor([[0.3995, 0.6324],\n",
      "        [0.9464, 0.0113]])\n",
      "\n",
      "tensor([[0.3995, 0.6324],\n",
      "        [0.9464, 0.0113]], requires_grad=True)\n",
      "\n"
     ]
    }
   ],
   "source": [
    "a = torch.rand(2, 2, requires_grad=True) # turn on autograd\n",
    "print(a, end=\"\\n\\n\")\n",
    "\n",
    "b = a.clone()\n",
    "print(b, end=\"\\n\\n\")\n",
    "\n",
    "c = a.detach().clone()\n",
    "print(c, end=\"\\n\\n\")\n",
    "\n",
    "print(a, end=\"\\n\\n\")"
   ]
  },
  {
   "cell_type": "markdown",
   "metadata": {},
   "source": [
    "What’s happening here?\n",
    "\n",
    "-  We create ``a`` with ``requires_grad=True`` turned on. **We haven’t\n",
    "   covered this optional argument yet, but will during the unit on\n",
    "   autograd.**\n",
    "-  When we print ``a``, it informs us that the property\n",
    "   ``requires_grad=True`` - this means that autograd and computation\n",
    "   history tracking are turned on.\n",
    "-  We clone ``a`` and label it ``b``. When we print ``b``, we can see\n",
    "   that it’s tracking its computation history - it has inherited\n",
    "   ``a``\\ ’s autograd settings, and added to the computation history.\n",
    "-  We clone ``a`` into ``c``, but we call ``detach()`` first.\n",
    "-  Printing ``c``, we see no computation history, and no\n",
    "   ``requires_grad=True``.\n",
    "\n",
    "The ``detach()`` method *detaches the tensor from its computation\n",
    "history.* It says, “do whatever comes next as if autograd was off.” It\n",
    "does this *without* changing ``a`` - you can see that when we print\n",
    "``a`` again at the end, it retains its ``requires_grad=True`` property.\n",
    "\n",
    "## Moving to GPU\n",
    "\n",
    "One of the major advantages of PyTorch is its robust acceleration on\n",
    "CUDA-compatible Nvidia GPUs. (“CUDA” stands for *Compute Unified Device\n",
    "Architecture*, which is Nvidia’s platform for parallel computing.) So\n",
    "far, everything we’ve done has been on CPU. How do we move to the faster\n",
    "hardware?\n",
    "\n",
    "First, we should check whether a GPU is available, with the\n",
    "``is_available()`` method.\n",
    "\n",
    "<div class=\"alert alert-info\"><h4>Note</h4><p>If you do not have a CUDA-compatible GPU and CUDA drivers\n",
    "     installed, the executable cells in this section will not execute any\n",
    "     GPU-related code.</p></div>\n",
    "\n",
    "\n"
   ]
  },
  {
   "cell_type": "code",
   "execution_count": 52,
   "metadata": {},
   "outputs": [
    {
     "name": "stdout",
     "output_type": "stream",
     "text": [
      "Sorry, CPU only.\n"
     ]
    }
   ],
   "source": [
    "if torch.cuda.is_available():\n",
    "    print('We have a GPU!')\n",
    "else:\n",
    "    print('Sorry, CPU only.')"
   ]
  },
  {
   "cell_type": "markdown",
   "metadata": {},
   "source": [
    "Once we’ve determined that one or more GPUs is available, we need to put\n",
    "our data someplace where the GPU can see it. Your CPU does computation\n",
    "on data in your computer’s RAM. Your GPU has dedicated memory attached\n",
    "to it. Whenever you want to perform a computation on a device, you must\n",
    "move *all* the data needed for that computation to memory accessible by\n",
    "that device. (Colloquially, “moving the data to memory accessible by the\n",
    "GPU” is shorted to, “moving the data to the GPU”.)\n",
    "\n",
    "There are multiple ways to get your data onto your target device. You\n",
    "may do it at creation time:\n",
    "\n",
    "\n"
   ]
  },
  {
   "cell_type": "code",
   "execution_count": 53,
   "metadata": {},
   "outputs": [
    {
     "name": "stdout",
     "output_type": "stream",
     "text": [
      "Sorry, CPU only.\n"
     ]
    }
   ],
   "source": [
    "if torch.cuda.is_available():\n",
    "    gpu_rand = torch.rand(2, 2, device='cuda')\n",
    "    print(gpu_rand)\n",
    "else:\n",
    "    print('Sorry, CPU only.')"
   ]
  },
  {
   "cell_type": "markdown",
   "metadata": {},
   "source": [
    "By default, new tensors are created on the CPU, so we have to specify\n",
    "when we want to create our tensor on the GPU with the optional\n",
    "``device`` argument. You can see when we print the new tensor, PyTorch\n",
    "informs us which device it’s on (if it’s not on CPU).\n",
    "\n",
    "You can query the number of GPUs with ``torch.cuda.device_count()``. If\n",
    "you have more than one GPU, you can specify them by index:\n",
    "``device='cuda:0'``, ``device='cuda:1'``, etc.\n",
    "\n",
    "As a coding practice, specifying our devices everywhere with string\n",
    "constants is pretty fragile. In an ideal world, your code would perform\n",
    "robustly whether you’re on CPU or GPU hardware. You can do this by\n",
    "creating a device handle that can be passed to your tensors instead of a\n",
    "string:\n",
    "\n",
    "\n"
   ]
  },
  {
   "cell_type": "code",
   "execution_count": 54,
   "metadata": {},
   "outputs": [
    {
     "name": "stdout",
     "output_type": "stream",
     "text": [
      "Device: cpu\n",
      "tensor([[0.5183, 0.9807],\n",
      "        [0.6545, 0.4144]])\n"
     ]
    }
   ],
   "source": [
    "if torch.cuda.is_available():\n",
    "    my_device = torch.device('cuda')\n",
    "else:\n",
    "    my_device = torch.device('cpu')\n",
    "print('Device: {}'.format(my_device))\n",
    "\n",
    "x = torch.rand(2, 2, device=my_device)\n",
    "print(x)"
   ]
  },
  {
   "cell_type": "markdown",
   "metadata": {},
   "source": [
    "If you have an existing tensor living on one device, you can move it to\n",
    "another with the ``to()`` method. The following line of code creates a\n",
    "tensor on CPU, and moves it to whichever device handle you acquired in\n",
    "the previous cell.\n",
    "\n",
    "\n"
   ]
  },
  {
   "cell_type": "code",
   "execution_count": 55,
   "metadata": {},
   "outputs": [],
   "source": [
    "y = torch.rand(2, 2)\n",
    "y = y.to(my_device)"
   ]
  },
  {
   "cell_type": "markdown",
   "metadata": {},
   "source": [
    "It is important to know that in order to do computation involving two or\n",
    "more tensors, *all of the tensors must be on the same device*. The\n",
    "following code will throw a runtime error, regardless of whether you\n",
    "have a GPU device available:\n",
    "\n",
    "::\n",
    "\n",
    "   x = torch.rand(2, 2)\n",
    "   y = torch.rand(2, 2, device='gpu')\n",
    "   z = x + y  # exception will be thrown\n",
    "\n",
    "\n"
   ]
  },
  {
   "cell_type": "markdown",
   "metadata": {},
   "source": [
    "## Manipulating Tensor Shapes\n",
    "\n",
    "Sometimes, you’ll need to change the shape of your tensor. Below, we’ll\n",
    "look at a few common cases, and how to handle them.\n",
    "\n",
    "### Changing the Number of Dimensions\n",
    "\n",
    "One case where you might need to change the number of dimensions is\n",
    "passing a single instance of input to your model. PyTorch models\n",
    "generally expect *batches* of input.\n",
    "\n",
    "For example, imagine having a model that works on 3 x 226 x 226 images -\n",
    "a 226-pixel square with 3 color channels. When you load and transform\n",
    "it, you’ll get a tensor of shape ``(3, 226, 226)``. Your model, though,\n",
    "is expecting input of shape ``(N, 3, 226, 226)``, where ``N`` is the\n",
    "number of images in the batch. So how do you make a batch of one?\n",
    "\n",
    "\n"
   ]
  },
  {
   "cell_type": "code",
   "execution_count": 56,
   "metadata": {},
   "outputs": [
    {
     "name": "stdout",
     "output_type": "stream",
     "text": [
      "torch.Size([3, 226, 226])\n",
      "torch.Size([1, 3, 226, 226])\n"
     ]
    }
   ],
   "source": [
    "a = torch.rand(3, 226, 226)\n",
    "b = a.unsqueeze(0)\n",
    "\n",
    "print(a.shape)\n",
    "print(b.shape)"
   ]
  },
  {
   "cell_type": "markdown",
   "metadata": {},
   "source": [
    "The ``unsqueeze()`` method adds a dimension of extent 1.\n",
    "``unsqueeze(0)`` adds it as a new zeroth dimension - now you have a\n",
    "batch of one!\n",
    "\n",
    "So if that’s *un*\\ squeezing? What do we mean by squeezing? We’re taking\n",
    "advantage of the fact that any dimension of extent 1 *does not* change\n",
    "the number of elements in the tensor.\n",
    "\n",
    "\n"
   ]
  },
  {
   "cell_type": "code",
   "execution_count": 57,
   "metadata": {},
   "outputs": [
    {
     "name": "stdout",
     "output_type": "stream",
     "text": [
      "tensor([[[[[0.8207]]]]])\n"
     ]
    }
   ],
   "source": [
    "c = torch.rand(1, 1, 1, 1, 1)\n",
    "print(c)"
   ]
  },
  {
   "cell_type": "markdown",
   "metadata": {},
   "source": [
    "Continuing the example above, let’s say the model’s output is a\n",
    "20-element vector for each input. You would then expect the output to\n",
    "have shape ``(N, 20)``, where ``N`` is the number of instances in the\n",
    "input batch. That means that for our single-input batch, we’ll get an\n",
    "output of shape ``(1, 20)``.\n",
    "\n",
    "What if you want to do some *non-batched* computation with that output -\n",
    "something that’s just expecting a 20-element vector?\n",
    "\n",
    "\n"
   ]
  },
  {
   "cell_type": "code",
   "execution_count": 58,
   "metadata": {},
   "outputs": [
    {
     "name": "stdout",
     "output_type": "stream",
     "text": [
      "torch.Size([1, 20])\n",
      "tensor([[0.6818, 0.5057, 0.9335, 0.9769, 0.2792, 0.3277, 0.5210, 0.7349, 0.7823,\n",
      "         0.8637, 0.1891, 0.3952, 0.9176, 0.8960, 0.4887, 0.8625, 0.6191, 0.9935,\n",
      "         0.1844, 0.6138]])\n",
      "torch.Size([20])\n",
      "tensor([0.6818, 0.5057, 0.9335, 0.9769, 0.2792, 0.3277, 0.5210, 0.7349, 0.7823,\n",
      "        0.8637, 0.1891, 0.3952, 0.9176, 0.8960, 0.4887, 0.8625, 0.6191, 0.9935,\n",
      "        0.1844, 0.6138])\n",
      "torch.Size([2, 2])\n",
      "torch.Size([2, 2])\n"
     ]
    }
   ],
   "source": [
    "a = torch.rand(1, 20)\n",
    "print(a.shape)\n",
    "print(a)\n",
    "\n",
    "b = a.squeeze(0)\n",
    "print(b.shape)\n",
    "print(b)\n",
    "\n",
    "c = torch.rand(2, 2)\n",
    "print(c.shape)\n",
    "\n",
    "d = c.squeeze(0)\n",
    "print(d.shape)"
   ]
  },
  {
   "cell_type": "markdown",
   "metadata": {},
   "source": [
    "You can see from the shapes that our 2-dimensional tensor is now\n",
    "1-dimensional, and if you look closely at the output of the cell above\n",
    "you’ll see that printing ``a`` shows an “extra” set of square brackets\n",
    "``[]`` due to having an extra dimension.\n",
    "\n",
    "You may only ``squeeze()`` dimensions of extent 1. See above where we\n",
    "try to squeeze a dimension of size 2 in ``c``, and get back the same\n",
    "shape we started with. Calls to ``squeeze()`` and ``unsqueeze()`` can\n",
    "only act on dimensions of extent 1 because to do otherwise would change\n",
    "the number of elements in the tensor.\n",
    "\n",
    "Another place you might use ``unsqueeze()`` is to ease broadcasting.\n",
    "Recall the example above where we had the following code:\n",
    "\n",
    "::\n",
    "\n",
    "   a =     torch.ones(4, 3, 2)\n",
    "\n",
    "   c = a * torch.rand(   3, 1) # 3rd dim = 1, 2nd dim identical to a\n",
    "   print(c)\n",
    "\n",
    "The net effect of that was to broadcast the operation over dimensions 0\n",
    "and 2, causing the random, 3 x 1 tensor to be multiplied element-wise by\n",
    "every 3-element column in ``a``.\n",
    "\n",
    "What if the random vector had just been 3-element vector? We’d lose the\n",
    "ability to do the broadcast, because the final dimensions would not\n",
    "match up according to the broadcasting rules. ``unsqueeze()`` comes to\n",
    "the rescue:\n",
    "\n",
    "\n"
   ]
  },
  {
   "cell_type": "code",
   "execution_count": 59,
   "metadata": {},
   "outputs": [
    {
     "name": "stdout",
     "output_type": "stream",
     "text": [
      "torch.Size([3, 1])\n",
      "tensor([[[0.4362, 0.4362],\n",
      "         [0.2368, 0.2368],\n",
      "         [0.1394, 0.1394]],\n",
      "\n",
      "        [[0.4362, 0.4362],\n",
      "         [0.2368, 0.2368],\n",
      "         [0.1394, 0.1394]],\n",
      "\n",
      "        [[0.4362, 0.4362],\n",
      "         [0.2368, 0.2368],\n",
      "         [0.1394, 0.1394]],\n",
      "\n",
      "        [[0.4362, 0.4362],\n",
      "         [0.2368, 0.2368],\n",
      "         [0.1394, 0.1394]]])\n"
     ]
    }
   ],
   "source": [
    "a = torch.ones(4, 3, 2)\n",
    "b = torch.rand(   3)     # trying to multiply a * b will give a runtime error\n",
    "c = b.unsqueeze(1)       # change to a 2-dimensional tensor, adding new dim at the end\n",
    "print(c.shape)\n",
    "print(a * c)             # broadcasting works again!"
   ]
  },
  {
   "cell_type": "markdown",
   "metadata": {},
   "source": [
    "The ``squeeze()`` and ``unsqueeze()`` methods also have in-place\n",
    "versions, ``squeeze_()`` and ``unsqueeze_()``:\n",
    "\n",
    "\n"
   ]
  },
  {
   "cell_type": "code",
   "execution_count": 60,
   "metadata": {},
   "outputs": [
    {
     "name": "stdout",
     "output_type": "stream",
     "text": [
      "torch.Size([3, 226, 226])\n",
      "torch.Size([1, 3, 226, 226])\n"
     ]
    }
   ],
   "source": [
    "batch_me = torch.rand(3, 226, 226)\n",
    "print(batch_me.shape)\n",
    "batch_me.unsqueeze_(0)\n",
    "print(batch_me.shape)"
   ]
  },
  {
   "cell_type": "markdown",
   "metadata": {},
   "source": [
    "Sometimes you’ll want to change the shape of a tensor more radically,\n",
    "while still preserving the number of elements and their contents. One\n",
    "case where this happens is at the interface between a convolutional\n",
    "layer of a model and a linear layer of the model - this is common in\n",
    "image classification models. A convolution kernel will yield an output\n",
    "tensor of shape *features x width x height,* but the following linear\n",
    "layer expects a 1-dimensional input. ``reshape()`` will do this for you,\n",
    "provided that the dimensions you request yield the same number of\n",
    "elements as the input tensor has:\n",
    "\n",
    "\n"
   ]
  },
  {
   "cell_type": "code",
   "execution_count": 61,
   "metadata": {},
   "outputs": [
    {
     "name": "stdout",
     "output_type": "stream",
     "text": [
      "torch.Size([6, 20, 20])\n",
      "torch.Size([2400])\n",
      "torch.Size([2400])\n"
     ]
    }
   ],
   "source": [
    "output3d = torch.rand(6, 20, 20)\n",
    "print(output3d.shape)\n",
    "\n",
    "input1d = output3d.reshape(6 * 20 * 20)\n",
    "print(input1d.shape)\n",
    "\n",
    "# can also call it as a method on the torch module:\n",
    "print(torch.reshape(output3d, (6 * 20 * 20,)).shape)"
   ]
  },
  {
   "cell_type": "markdown",
   "metadata": {},
   "source": [
    "<div class=\"alert alert-info\"><h4>Note</h4><p>The ``(6 * 20 * 20,)`` argument in the final line of the cell\n",
    "     above is because PyTorch expects a **tuple** when specifying a\n",
    "     tensor shape - but when the shape is the first argument of a method, it\n",
    "     lets us cheat and just use a series of integers. Here, we had to add the\n",
    "     parentheses and comma to convince the method that this is really a\n",
    "     one-element tuple.</p></div>\n",
    "\n",
    "When it can, ``reshape()`` will return a *view* on the tensor to be\n",
    "changed - that is, a separate tensor object looking at the same\n",
    "underlying region of memory. *This is important:* That means any change\n",
    "made to the source tensor will be reflected in the view on that tensor,\n",
    "unless you ``clone()`` it.\n",
    "\n",
    "There *are* conditions, beyond the scope of this introduction, where\n",
    "``reshape()`` has to return a tensor carrying a copy of the data. For\n",
    "more information, see the\n",
    "[docs](https://pytorch.org/docs/stable/torch.html#torch.reshape)_.\n",
    "\n",
    "\n"
   ]
  },
  {
   "cell_type": "markdown",
   "metadata": {},
   "source": [
    "## NumPy Bridge\n",
    "\n",
    "In the section above on broadcasting, it was mentioned that PyTorch’s\n",
    "broadcast semantics are compatible with NumPy’s - but the kinship\n",
    "between PyTorch and NumPy goes even deeper than that.\n",
    "\n",
    "If you have existing ML or scientific code with data stored in NumPy\n",
    "ndarrays, you may wish to express that same data as PyTorch tensors,\n",
    "whether to take advantage of PyTorch’s GPU acceleration, or its\n",
    "efficient abstractions for building ML models. It’s easy to switch\n",
    "between ndarrays and PyTorch tensors:\n",
    "\n",
    "\n"
   ]
  },
  {
   "cell_type": "code",
   "execution_count": 62,
   "metadata": {},
   "outputs": [
    {
     "name": "stdout",
     "output_type": "stream",
     "text": [
      "[[1. 1. 1.]\n",
      " [1. 1. 1.]]\n",
      "float64\n",
      "tensor([[1., 1., 1.],\n",
      "        [1., 1., 1.]], dtype=torch.float64)\n"
     ]
    }
   ],
   "source": [
    "import numpy as np\n",
    "\n",
    "numpy_array = np.ones((2, 3))\n",
    "print(numpy_array)\n",
    "print(numpy_array.dtype)\n",
    "\n",
    "pytorch_tensor = torch.from_numpy(numpy_array)\n",
    "print(pytorch_tensor)"
   ]
  },
  {
   "cell_type": "markdown",
   "metadata": {},
   "source": [
    "PyTorch creates a tensor of the same shape and containing the same data\n",
    "as the NumPy array, going so far as to keep NumPy’s default 64-bit float\n",
    "data type.\n",
    "\n",
    "The conversion can just as easily go the other way:\n",
    "\n",
    "\n"
   ]
  },
  {
   "cell_type": "code",
   "execution_count": 63,
   "metadata": {},
   "outputs": [
    {
     "name": "stdout",
     "output_type": "stream",
     "text": [
      "tensor([[0.0140, 0.3838, 0.0171],\n",
      "        [0.2775, 0.0935, 0.1874]])\n",
      "\n",
      "[[0.01402104 0.38376427 0.01713592]\n",
      " [0.27750254 0.09351915 0.18740034]]\n",
      "float32\n"
     ]
    }
   ],
   "source": [
    "pytorch_rand = torch.rand(2, 3)\n",
    "print(pytorch_rand, end=\"\\n\\n\")\n",
    "\n",
    "numpy_rand = pytorch_rand.numpy()\n",
    "print(numpy_rand)\n",
    "print(numpy_rand.dtype)"
   ]
  },
  {
   "cell_type": "markdown",
   "metadata": {},
   "source": [
    "It is important to know that these converted objects are using *the same\n",
    "underlying memory* as their source objects, meaning that changes to one\n",
    "are reflected in the other:\n",
    "\n",
    "\n"
   ]
  },
  {
   "cell_type": "code",
   "execution_count": 64,
   "metadata": {},
   "outputs": [
    {
     "name": "stdout",
     "output_type": "stream",
     "text": [
      "tensor([[ 1.,  1.,  1.],\n",
      "        [ 1., 23.,  1.]], dtype=torch.float64)\n",
      "\n",
      "[[1.4021039e-02 3.8376427e-01 1.7135918e-02]\n",
      " [2.7750254e-01 9.3519151e-02 1.7000000e+01]]\n"
     ]
    }
   ],
   "source": [
    "numpy_array[1, 1] = 23\n",
    "print(pytorch_tensor, end=\"\\n\\n\")\n",
    "\n",
    "pytorch_rand[1, 2] = 17\n",
    "print(numpy_rand)"
   ]
  },
  {
   "cell_type": "markdown",
   "source": [
    "## Index & Slicing\n",
    "![...](https://img1.daumcdn.net/thumb/R1280x0/?scode=mtistory2&fname=https%3A%2F%2Fblog.kakaocdn.net%2Fdn%2FCockM%2Fbtr0il3N3WH%2FOHvaSRN5FJjGOccBKbdov0%2Fimg.png)\n",
    "![...](https://img1.daumcdn.net/thumb/R1280x0/?scode=mtistory2&fname=https%3A%2F%2Fblog.kakaocdn.net%2Fdn%2FbMHRoV%2Fbtr0aPy62x9%2FNG959AvpryfGKTNiNY7Tck%2Fimg.png)"
   ],
   "metadata": {
    "collapsed": false
   }
  }
 ],
 "metadata": {
  "kernelspec": {
   "display_name": "Python 3 (ipykernel)",
   "language": "python",
   "name": "python3"
  },
  "language_info": {
   "codemirror_mode": {
    "name": "ipython",
    "version": 3
   },
   "file_extension": ".py",
   "mimetype": "text/x-python",
   "name": "python",
   "nbconvert_exporter": "python",
   "pygments_lexer": "ipython3",
   "version": "3.10.9"
  }
 },
 "nbformat": 4,
 "nbformat_minor": 1
}
