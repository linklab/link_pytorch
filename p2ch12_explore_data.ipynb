{
 "cells": [
  {
   "cell_type": "code",
   "execution_count": 1,
   "metadata": {},
   "outputs": [],
   "source": [
    "%matplotlib inline\n",
    "import copy\n",
    "import numpy as np\n",
    "import matplotlib.pyplot as plt"
   ]
  },
  {
   "cell_type": "code",
   "execution_count": 2,
   "metadata": {},
   "outputs": [
    {
     "name": "stdout",
     "output_type": "stream",
     "text": [
      "PROJECT_HOME /Users/yhhan/git/link_pytorch\n"
     ]
    },
    {
     "data": {
      "text/plain": "CandidateInfoTuple(isNodule_bool=True, diameter_mm=32.27003025, series_uid='1.3.6.1.4.1.14519.5.2.1.6279.6001.287966244644280690737019247886', center_xyz=(67.61451718, 85.02525992, -109.8084416))"
     },
     "execution_count": 2,
     "metadata": {},
     "output_type": "execute_result"
    }
   ],
   "source": [
    "import torch\n",
    "from p2ch12.dsets import getCandidateInfoList, getCt, LunaDataset\n",
    "from util.util import xyz2irc\n",
    "\n",
    "candidateInfo_list = getCandidateInfoList(requireOnDisk_bool=False)\n",
    "candidateInfo_list[0]"
   ]
  },
  {
   "cell_type": "code",
   "execution_count": 3,
   "metadata": {},
   "outputs": [
    {
     "name": "stderr",
     "output_type": "stream",
     "text": [
      "2023-04-25 00:17:16,415 INFO     pid:78306 p2ch12.dsets:275:__init__ <p2ch12.dsets.LunaDataset object at 0x1041d0a30>: 551065 training samples, 549714 neg, 1351 pos, unbalanced ratio\n"
     ]
    },
    {
     "name": "stdout",
     "output_type": "stream",
     "text": [
      "0 CandidateInfoTuple(isNodule_bool=True, diameter_mm=32.27003025, series_uid='1.3.6.1.4.1.14519.5.2.1.6279.6001.287966244644280690737019247886', center_xyz=(67.61451718, 85.02525992, -109.8084416))\n",
      "1 CandidateInfoTuple(isNodule_bool=True, diameter_mm=30.61040636, series_uid='1.3.6.1.4.1.14519.5.2.1.6279.6001.112740418331256326754121315800', center_xyz=(47.90350511, 37.60442008, -99.93417567))\n",
      "2 CandidateInfoTuple(isNodule_bool=True, diameter_mm=30.61040636, series_uid='1.3.6.1.4.1.14519.5.2.1.6279.6001.112740418331256326754121315800', center_xyz=(44.19, 37.79, -107.01))\n",
      "3 CandidateInfoTuple(isNodule_bool=True, diameter_mm=30.61040636, series_uid='1.3.6.1.4.1.14519.5.2.1.6279.6001.112740418331256326754121315800', center_xyz=(40.69, 32.19, -97.15))\n",
      "4 CandidateInfoTuple(isNodule_bool=True, diameter_mm=27.44242293, series_uid='1.3.6.1.4.1.14519.5.2.1.6279.6001.943403138251347598519939390311', center_xyz=(-45.29440163, 74.86925386, -97.52812481))\n",
      "5 CandidateInfoTuple(isNodule_bool=True, diameter_mm=27.07544345, series_uid='1.3.6.1.4.1.14519.5.2.1.6279.6001.481278873893653517789960724156', center_xyz=(-102.571208, -5.186558766, -205.1033412))\n",
      "6 CandidateInfoTuple(isNodule_bool=True, diameter_mm=26.83708074, series_uid='1.3.6.1.4.1.14519.5.2.1.6279.6001.487268565754493433372433148666', center_xyz=(121.152909372, 12.9136003304, -159.399497186))\n",
      "7 CandidateInfoTuple(isNodule_bool=True, diameter_mm=26.83708074, series_uid='1.3.6.1.4.1.14519.5.2.1.6279.6001.487268565754493433372433148666', center_xyz=(118.8539408, 11.54202797, -165.5042458))\n",
      "8 CandidateInfoTuple(isNodule_bool=True, diameter_mm=25.87269662, series_uid='1.3.6.1.4.1.14519.5.2.1.6279.6001.177086402277715068525592995222', center_xyz=(-66.628286875, 57.151972075, -110.12035075))\n",
      "9 CandidateInfoTuple(isNodule_bool=True, diameter_mm=25.41540526, series_uid='1.3.6.1.4.1.14519.5.2.1.6279.6001.219618492426142913407827034169', center_xyz=(-101.7504204, -95.65460516, -138.4943211))\n"
     ]
    }
   ],
   "source": [
    "from p2ch12.vis import findPositiveSamples, showCandidate\n",
    "positiveSample_list = findPositiveSamples()"
   ]
  },
  {
   "cell_type": "code",
   "execution_count": 6,
   "metadata": {},
   "outputs": [
    {
     "name": "stderr",
     "output_type": "stream",
     "text": [
      "2023-04-25 00:29:05,176 INFO     pid:78306 p2ch12.dsets:275:__init__ <p2ch12.dsets.LunaDataset object at 0x12fa478e0>: 551065 training samples, 549714 neg, 1351 pos, unbalanced ratio\n",
      "2023-04-25 00:29:05,206 INFO     pid:78306 p2ch12.dsets:275:__init__ <p2ch12.dsets.LunaDataset object at 0x12a976ef0>: 551065 training samples, 549714 neg, 1351 pos, unbalanced ratio\n",
      "2023-04-25 00:29:05,233 INFO     pid:78306 p2ch12.dsets:275:__init__ <p2ch12.dsets.LunaDataset object at 0x12fa474f0>: 551065 training samples, 549714 neg, 1351 pos, unbalanced ratio\n",
      "2023-04-25 00:29:05,265 INFO     pid:78306 p2ch12.dsets:275:__init__ <p2ch12.dsets.LunaDataset object at 0x12fa47d00>: 551065 training samples, 549714 neg, 1351 pos, unbalanced ratio\n",
      "2023-04-25 00:29:05,300 INFO     pid:78306 p2ch12.dsets:275:__init__ <p2ch12.dsets.LunaDataset object at 0x12fa47fa0>: 551065 training samples, 549714 neg, 1351 pos, unbalanced ratio\n",
      "2023-04-25 00:29:05,329 INFO     pid:78306 p2ch12.dsets:275:__init__ <p2ch12.dsets.LunaDataset object at 0x109b1e2c0>: 551065 training samples, 549714 neg, 1351 pos, unbalanced ratio\n",
      "2023-04-25 00:29:05,389 INFO     pid:78306 p2ch12.dsets:275:__init__ <p2ch12.dsets.LunaDataset object at 0x109b1d120>: 551065 training samples, 549714 neg, 1351 pos, unbalanced ratio\n"
     ]
    }
   ],
   "source": [
    "augmentation_dict = {}\n",
    "augmentation_list = [\n",
    "    ('None', {}),\n",
    "    ('flip', {'flip': True}),\n",
    "    ('offset', {'offset': 0.1}),\n",
    "    ('scale', {'scale': 0.2}),\n",
    "    ('rotate', {'rotate': True}),\n",
    "    ('noise', {'noise': 25.0}),    \n",
    "]\n",
    "ds_list = [\n",
    "    LunaDataset(sortby_str='label_and_size', augmentation_dict=augmentation_dict) \n",
    "    for title_str, augmentation_dict in augmentation_list\n",
    "]\n",
    "\n",
    "all_dict = {}\n",
    "for title_str, augmentation_dict in augmentation_list:\n",
    "    all_dict.update(augmentation_dict)\n",
    "all_ds = LunaDataset(sortby_str='label_and_size', augmentation_dict=all_dict)\n",
    "\n",
    "augmentation_list.extend([('All', augmentation_dict)] * 3)\n",
    "ds_list.extend([all_ds] * 3)\n",
    "\n"
   ]
  },
  {
   "cell_type": "code",
   "execution_count": 7,
   "metadata": {},
   "outputs": [
    {
     "ename": "IndexError",
     "evalue": "list index out of range",
     "output_type": "error",
     "traceback": [
      "\u001B[0;31m---------------------------------------------------------------------------\u001B[0m",
      "\u001B[0;31mIndexError\u001B[0m                                Traceback (most recent call last)",
      "Cell \u001B[0;32mIn[7], line 6\u001B[0m\n\u001B[1;32m      2\u001B[0m sample_ndx \u001B[38;5;241m=\u001B[39m \u001B[38;5;241m154\u001B[39m\n\u001B[1;32m      3\u001B[0m sample_ndx \u001B[38;5;241m=\u001B[39m \u001B[38;5;241m155\u001B[39m\n\u001B[0;32m----> 6\u001B[0m sample_tup \u001B[38;5;241m=\u001B[39m \u001B[43mall_ds\u001B[49m\u001B[43m[\u001B[49m\u001B[43msample_ndx\u001B[49m\u001B[43m]\u001B[49m\n\u001B[1;32m      7\u001B[0m \u001B[38;5;28mprint\u001B[39m(sample_tup[\u001B[38;5;241m0\u001B[39m]\u001B[38;5;241m.\u001B[39mshape, sample_tup[\u001B[38;5;241m1\u001B[39m:])\n\u001B[1;32m      9\u001B[0m fig \u001B[38;5;241m=\u001B[39m plt\u001B[38;5;241m.\u001B[39mfigure(figsize\u001B[38;5;241m=\u001B[39m(\u001B[38;5;241m30\u001B[39m, \u001B[38;5;241m30\u001B[39m))\n",
      "File \u001B[0;32m~/git/link_pytorch/p2ch12/dsets.py:312\u001B[0m, in \u001B[0;36mLunaDataset.__getitem__\u001B[0;34m(self, ndx)\u001B[0m\n\u001B[1;32m    309\u001B[0m width_irc \u001B[38;5;241m=\u001B[39m (\u001B[38;5;241m32\u001B[39m, \u001B[38;5;241m48\u001B[39m, \u001B[38;5;241m48\u001B[39m)\n\u001B[1;32m    311\u001B[0m \u001B[38;5;28;01mif\u001B[39;00m \u001B[38;5;28mself\u001B[39m\u001B[38;5;241m.\u001B[39maugmentation_dict:\n\u001B[0;32m--> 312\u001B[0m     candidate_t, center_irc \u001B[38;5;241m=\u001B[39m \u001B[43mgetCtAugmentedCandidate\u001B[49m\u001B[43m(\u001B[49m\n\u001B[1;32m    313\u001B[0m \u001B[43m        \u001B[49m\u001B[38;5;28;43mself\u001B[39;49m\u001B[38;5;241;43m.\u001B[39;49m\u001B[43maugmentation_dict\u001B[49m\u001B[43m,\u001B[49m\n\u001B[1;32m    314\u001B[0m \u001B[43m        \u001B[49m\u001B[43mcandidateInfo_tup\u001B[49m\u001B[38;5;241;43m.\u001B[39;49m\u001B[43mseries_uid\u001B[49m\u001B[43m,\u001B[49m\n\u001B[1;32m    315\u001B[0m \u001B[43m        \u001B[49m\u001B[43mcandidateInfo_tup\u001B[49m\u001B[38;5;241;43m.\u001B[39;49m\u001B[43mcenter_xyz\u001B[49m\u001B[43m,\u001B[49m\n\u001B[1;32m    316\u001B[0m \u001B[43m        \u001B[49m\u001B[43mwidth_irc\u001B[49m\u001B[43m,\u001B[49m\n\u001B[1;32m    317\u001B[0m \u001B[43m        \u001B[49m\u001B[38;5;28;43mself\u001B[39;49m\u001B[38;5;241;43m.\u001B[39;49m\u001B[43muse_cache\u001B[49m\u001B[43m,\u001B[49m\n\u001B[1;32m    318\u001B[0m \u001B[43m    \u001B[49m\u001B[43m)\u001B[49m\n\u001B[1;32m    319\u001B[0m \u001B[38;5;28;01melif\u001B[39;00m \u001B[38;5;28mself\u001B[39m\u001B[38;5;241m.\u001B[39muse_cache:\n\u001B[1;32m    320\u001B[0m     candidate_a, center_irc \u001B[38;5;241m=\u001B[39m getCtRawCandidate(\n\u001B[1;32m    321\u001B[0m         candidateInfo_tup\u001B[38;5;241m.\u001B[39mseries_uid,\n\u001B[1;32m    322\u001B[0m         candidateInfo_tup\u001B[38;5;241m.\u001B[39mcenter_xyz,\n\u001B[1;32m    323\u001B[0m         width_irc,\n\u001B[1;32m    324\u001B[0m     )\n",
      "File \u001B[0;32m~/git/link_pytorch/p2ch12/dsets.py:163\u001B[0m, in \u001B[0;36mgetCtAugmentedCandidate\u001B[0;34m(augmentation_dict, series_uid, center_xyz, width_irc, use_cache)\u001B[0m\n\u001B[1;32m    157\u001B[0m \u001B[38;5;28;01mdef\u001B[39;00m \u001B[38;5;21mgetCtAugmentedCandidate\u001B[39m(\n\u001B[1;32m    158\u001B[0m         augmentation_dict,\n\u001B[1;32m    159\u001B[0m         series_uid, center_xyz, width_irc,\n\u001B[1;32m    160\u001B[0m         use_cache\u001B[38;5;241m=\u001B[39m\u001B[38;5;28;01mTrue\u001B[39;00m):\n\u001B[1;32m    161\u001B[0m     \u001B[38;5;28;01mif\u001B[39;00m use_cache:\n\u001B[1;32m    162\u001B[0m         ct_chunk, center_irc \u001B[38;5;241m=\u001B[39m \\\n\u001B[0;32m--> 163\u001B[0m             \u001B[43mgetCtRawCandidate\u001B[49m\u001B[43m(\u001B[49m\u001B[43mseries_uid\u001B[49m\u001B[43m,\u001B[49m\u001B[43m \u001B[49m\u001B[43mcenter_xyz\u001B[49m\u001B[43m,\u001B[49m\u001B[43m \u001B[49m\u001B[43mwidth_irc\u001B[49m\u001B[43m)\u001B[49m\n\u001B[1;32m    164\u001B[0m     \u001B[38;5;28;01melse\u001B[39;00m:\n\u001B[1;32m    165\u001B[0m         ct \u001B[38;5;241m=\u001B[39m getCt(series_uid)\n",
      "File \u001B[0;32m~/miniforge3/envs/link_pytorch/lib/python3.10/site-packages/diskcache/core.py:1888\u001B[0m, in \u001B[0;36mCache.memoize.<locals>.decorator.<locals>.wrapper\u001B[0;34m(*args, **kwargs)\u001B[0m\n\u001B[1;32m   1885\u001B[0m result \u001B[38;5;241m=\u001B[39m \u001B[38;5;28mself\u001B[39m\u001B[38;5;241m.\u001B[39mget(key, default\u001B[38;5;241m=\u001B[39mENOVAL, retry\u001B[38;5;241m=\u001B[39m\u001B[38;5;28;01mTrue\u001B[39;00m)\n\u001B[1;32m   1887\u001B[0m \u001B[38;5;28;01mif\u001B[39;00m result \u001B[38;5;129;01mis\u001B[39;00m ENOVAL:\n\u001B[0;32m-> 1888\u001B[0m     result \u001B[38;5;241m=\u001B[39m \u001B[43mfunc\u001B[49m\u001B[43m(\u001B[49m\u001B[38;5;241;43m*\u001B[39;49m\u001B[43margs\u001B[49m\u001B[43m,\u001B[49m\u001B[43m \u001B[49m\u001B[38;5;241;43m*\u001B[39;49m\u001B[38;5;241;43m*\u001B[39;49m\u001B[43mkwargs\u001B[49m\u001B[43m)\u001B[49m\n\u001B[1;32m   1889\u001B[0m     \u001B[38;5;28;01mif\u001B[39;00m expire \u001B[38;5;129;01mis\u001B[39;00m \u001B[38;5;28;01mNone\u001B[39;00m \u001B[38;5;129;01mor\u001B[39;00m expire \u001B[38;5;241m>\u001B[39m \u001B[38;5;241m0\u001B[39m:\n\u001B[1;32m   1890\u001B[0m         \u001B[38;5;28mself\u001B[39m\u001B[38;5;241m.\u001B[39mset(key, result, expire, tag\u001B[38;5;241m=\u001B[39mtag, retry\u001B[38;5;241m=\u001B[39m\u001B[38;5;28;01mTrue\u001B[39;00m)\n",
      "File \u001B[0;32m~/git/link_pytorch/p2ch12/dsets.py:153\u001B[0m, in \u001B[0;36mgetCtRawCandidate\u001B[0;34m(series_uid, center_xyz, width_irc)\u001B[0m\n\u001B[1;32m    151\u001B[0m \u001B[38;5;129m@raw_cache\u001B[39m\u001B[38;5;241m.\u001B[39mmemoize(typed\u001B[38;5;241m=\u001B[39m\u001B[38;5;28;01mTrue\u001B[39;00m)\n\u001B[1;32m    152\u001B[0m \u001B[38;5;28;01mdef\u001B[39;00m \u001B[38;5;21mgetCtRawCandidate\u001B[39m(series_uid, center_xyz, width_irc):\n\u001B[0;32m--> 153\u001B[0m     ct \u001B[38;5;241m=\u001B[39m \u001B[43mgetCt\u001B[49m\u001B[43m(\u001B[49m\u001B[43mseries_uid\u001B[49m\u001B[43m)\u001B[49m\n\u001B[1;32m    154\u001B[0m     ct_chunk, center_irc \u001B[38;5;241m=\u001B[39m ct\u001B[38;5;241m.\u001B[39mgetRawCandidate(center_xyz, width_irc)\n\u001B[1;32m    155\u001B[0m     \u001B[38;5;28;01mreturn\u001B[39;00m ct_chunk, center_irc\n",
      "File \u001B[0;32m~/git/link_pytorch/p2ch12/dsets.py:149\u001B[0m, in \u001B[0;36mgetCt\u001B[0;34m(series_uid)\u001B[0m\n\u001B[1;32m    147\u001B[0m \u001B[38;5;129m@functools\u001B[39m\u001B[38;5;241m.\u001B[39mlru_cache(\u001B[38;5;241m1\u001B[39m, typed\u001B[38;5;241m=\u001B[39m\u001B[38;5;28;01mTrue\u001B[39;00m)\n\u001B[1;32m    148\u001B[0m \u001B[38;5;28;01mdef\u001B[39;00m \u001B[38;5;21mgetCt\u001B[39m(series_uid):\n\u001B[0;32m--> 149\u001B[0m     \u001B[38;5;28;01mreturn\u001B[39;00m \u001B[43mCt\u001B[49m\u001B[43m(\u001B[49m\u001B[43mseries_uid\u001B[49m\u001B[43m)\u001B[49m\n",
      "File \u001B[0;32m~/git/link_pytorch/p2ch12/dsets.py:93\u001B[0m, in \u001B[0;36mCt.__init__\u001B[0;34m(self, series_uid)\u001B[0m\n\u001B[1;32m     92\u001B[0m \u001B[38;5;28;01mdef\u001B[39;00m \u001B[38;5;21m__init__\u001B[39m(\u001B[38;5;28mself\u001B[39m, series_uid):\n\u001B[0;32m---> 93\u001B[0m     mhd_path \u001B[38;5;241m=\u001B[39m \u001B[43mglob\u001B[49m\u001B[38;5;241;43m.\u001B[39;49m\u001B[43mglob\u001B[49m\u001B[43m(\u001B[49m\n\u001B[1;32m     94\u001B[0m \u001B[43m        \u001B[49m\u001B[43mos\u001B[49m\u001B[38;5;241;43m.\u001B[39;49m\u001B[43mpath\u001B[49m\u001B[38;5;241;43m.\u001B[39;49m\u001B[43mjoin\u001B[49m\u001B[43m(\u001B[49m\u001B[43mPROJECT_HOME\u001B[49m\u001B[43m,\u001B[49m\u001B[43m \u001B[49m\u001B[38;5;124;43m'\u001B[39;49m\u001B[38;5;124;43mdata-unversioned\u001B[39;49m\u001B[38;5;124;43m'\u001B[39;49m\u001B[43m,\u001B[49m\u001B[43m \u001B[49m\u001B[38;5;124;43m'\u001B[39;49m\u001B[38;5;124;43mpart2\u001B[39;49m\u001B[38;5;124;43m'\u001B[39;49m\u001B[43m,\u001B[49m\u001B[43m \u001B[49m\u001B[38;5;124;43m'\u001B[39;49m\u001B[38;5;124;43mluna\u001B[39;49m\u001B[38;5;124;43m'\u001B[39;49m\u001B[43m,\u001B[49m\u001B[43m \u001B[49m\u001B[38;5;124;43m'\u001B[39;49m\u001B[38;5;124;43msubset*\u001B[39;49m\u001B[38;5;124;43m'\u001B[39;49m\u001B[43m,\u001B[49m\u001B[43m \u001B[49m\u001B[38;5;124;43m'\u001B[39;49m\u001B[38;5;132;43;01m{}\u001B[39;49;00m\u001B[38;5;124;43m.mhd\u001B[39;49m\u001B[38;5;124;43m'\u001B[39;49m\u001B[38;5;241;43m.\u001B[39;49m\u001B[43mformat\u001B[49m\u001B[43m(\u001B[49m\u001B[43mseries_uid\u001B[49m\u001B[43m)\u001B[49m\u001B[43m)\u001B[49m\n\u001B[1;32m     95\u001B[0m \u001B[43m    \u001B[49m\u001B[43m)\u001B[49m\u001B[43m[\u001B[49m\u001B[38;5;241;43m0\u001B[39;49m\u001B[43m]\u001B[49m\n\u001B[1;32m     97\u001B[0m     ct_mhd \u001B[38;5;241m=\u001B[39m sitk\u001B[38;5;241m.\u001B[39mReadImage(mhd_path)\n\u001B[1;32m     98\u001B[0m     ct_a \u001B[38;5;241m=\u001B[39m np\u001B[38;5;241m.\u001B[39marray(sitk\u001B[38;5;241m.\u001B[39mGetArrayFromImage(ct_mhd), dtype\u001B[38;5;241m=\u001B[39mnp\u001B[38;5;241m.\u001B[39mfloat32)\n",
      "\u001B[0;31mIndexError\u001B[0m: list index out of range"
     ]
    }
   ],
   "source": [
    "sample_ndx = 100\n",
    "sample_ndx = 154\n",
    "sample_ndx = 155\n",
    "\n",
    "\n",
    "sample_tup = all_ds[sample_ndx]\n",
    "print(sample_tup[0].shape, sample_tup[1:])\n",
    "\n",
    "fig = plt.figure(figsize=(30, 30))\n",
    "\n",
    "clim=(-1000.0, 300)\n",
    "\n",
    "for i, ((title_str, _), ds) in enumerate(zip(augmentation_list, ds_list)):\n",
    "    sample_tup = ds[sample_ndx]\n",
    "    subplot = fig.add_subplot(3, 3, i+1)\n",
    "    subplot.set_title(title_str, fontsize=30)\n",
    "    for label in (subplot.get_xticklabels() + subplot.get_yticklabels()):\n",
    "        label.set_fontsize(20)\n",
    "    plt.imshow(sample_tup[0][0][16], clim=clim, cmap='gray')\n",
    "\n"
   ]
  },
  {
   "cell_type": "code",
   "execution_count": 8,
   "metadata": {},
   "outputs": [
    {
     "name": "stderr",
     "output_type": "stream",
     "text": [
      "2023-04-25 00:29:09,588 INFO     pid:78306 p2ch12.dsets:275:__init__ <p2ch12.dsets.LunaDataset object at 0x12fa686d0>: 911 training samples, 904 neg, 7 pos, unbalanced ratio\n"
     ]
    },
    {
     "ename": "IndexError",
     "evalue": "list index out of range",
     "output_type": "error",
     "traceback": [
      "\u001B[0;31m---------------------------------------------------------------------------\u001B[0m",
      "\u001B[0;31mIndexError\u001B[0m                                Traceback (most recent call last)",
      "Cell \u001B[0;32mIn[8], line 2\u001B[0m\n\u001B[1;32m      1\u001B[0m series_uid \u001B[38;5;241m=\u001B[39m positiveSample_list[\u001B[38;5;241m1\u001B[39m][\u001B[38;5;241m2\u001B[39m]\n\u001B[0;32m----> 2\u001B[0m \u001B[43mshowCandidate\u001B[49m\u001B[43m(\u001B[49m\u001B[43mseries_uid\u001B[49m\u001B[43m)\u001B[49m\n",
      "File \u001B[0;32m~/git/link_pytorch/p2ch12/vis.py:36\u001B[0m, in \u001B[0;36mshowCandidate\u001B[0;34m(series_uid, batch_ndx, **kwargs)\u001B[0m\n\u001B[1;32m     33\u001B[0m         \u001B[38;5;28mprint\u001B[39m(\u001B[38;5;124m\"\u001B[39m\u001B[38;5;124mWarning: no positive samples found; using first negative sample.\u001B[39m\u001B[38;5;124m\"\u001B[39m)\n\u001B[1;32m     34\u001B[0m         batch_ndx \u001B[38;5;241m=\u001B[39m \u001B[38;5;241m0\u001B[39m\n\u001B[0;32m---> 36\u001B[0m ct \u001B[38;5;241m=\u001B[39m \u001B[43mCt\u001B[49m\u001B[43m(\u001B[49m\u001B[43mseries_uid\u001B[49m\u001B[43m)\u001B[49m\n\u001B[1;32m     37\u001B[0m ct_t, pos_t, series_uid, center_irc \u001B[38;5;241m=\u001B[39m ds[batch_ndx]\n\u001B[1;32m     38\u001B[0m ct_a \u001B[38;5;241m=\u001B[39m ct_t[\u001B[38;5;241m0\u001B[39m]\u001B[38;5;241m.\u001B[39mnumpy()\n",
      "File \u001B[0;32m~/git/link_pytorch/p2ch12/dsets.py:93\u001B[0m, in \u001B[0;36mCt.__init__\u001B[0;34m(self, series_uid)\u001B[0m\n\u001B[1;32m     92\u001B[0m \u001B[38;5;28;01mdef\u001B[39;00m \u001B[38;5;21m__init__\u001B[39m(\u001B[38;5;28mself\u001B[39m, series_uid):\n\u001B[0;32m---> 93\u001B[0m     mhd_path \u001B[38;5;241m=\u001B[39m \u001B[43mglob\u001B[49m\u001B[38;5;241;43m.\u001B[39;49m\u001B[43mglob\u001B[49m\u001B[43m(\u001B[49m\n\u001B[1;32m     94\u001B[0m \u001B[43m        \u001B[49m\u001B[43mos\u001B[49m\u001B[38;5;241;43m.\u001B[39;49m\u001B[43mpath\u001B[49m\u001B[38;5;241;43m.\u001B[39;49m\u001B[43mjoin\u001B[49m\u001B[43m(\u001B[49m\u001B[43mPROJECT_HOME\u001B[49m\u001B[43m,\u001B[49m\u001B[43m \u001B[49m\u001B[38;5;124;43m'\u001B[39;49m\u001B[38;5;124;43mdata-unversioned\u001B[39;49m\u001B[38;5;124;43m'\u001B[39;49m\u001B[43m,\u001B[49m\u001B[43m \u001B[49m\u001B[38;5;124;43m'\u001B[39;49m\u001B[38;5;124;43mpart2\u001B[39;49m\u001B[38;5;124;43m'\u001B[39;49m\u001B[43m,\u001B[49m\u001B[43m \u001B[49m\u001B[38;5;124;43m'\u001B[39;49m\u001B[38;5;124;43mluna\u001B[39;49m\u001B[38;5;124;43m'\u001B[39;49m\u001B[43m,\u001B[49m\u001B[43m \u001B[49m\u001B[38;5;124;43m'\u001B[39;49m\u001B[38;5;124;43msubset*\u001B[39;49m\u001B[38;5;124;43m'\u001B[39;49m\u001B[43m,\u001B[49m\u001B[43m \u001B[49m\u001B[38;5;124;43m'\u001B[39;49m\u001B[38;5;132;43;01m{}\u001B[39;49;00m\u001B[38;5;124;43m.mhd\u001B[39;49m\u001B[38;5;124;43m'\u001B[39;49m\u001B[38;5;241;43m.\u001B[39;49m\u001B[43mformat\u001B[49m\u001B[43m(\u001B[49m\u001B[43mseries_uid\u001B[49m\u001B[43m)\u001B[49m\u001B[43m)\u001B[49m\n\u001B[1;32m     95\u001B[0m \u001B[43m    \u001B[49m\u001B[43m)\u001B[49m\u001B[43m[\u001B[49m\u001B[38;5;241;43m0\u001B[39;49m\u001B[43m]\u001B[49m\n\u001B[1;32m     97\u001B[0m     ct_mhd \u001B[38;5;241m=\u001B[39m sitk\u001B[38;5;241m.\u001B[39mReadImage(mhd_path)\n\u001B[1;32m     98\u001B[0m     ct_a \u001B[38;5;241m=\u001B[39m np\u001B[38;5;241m.\u001B[39marray(sitk\u001B[38;5;241m.\u001B[39mGetArrayFromImage(ct_mhd), dtype\u001B[38;5;241m=\u001B[39mnp\u001B[38;5;241m.\u001B[39mfloat32)\n",
      "\u001B[0;31mIndexError\u001B[0m: list index out of range"
     ]
    }
   ],
   "source": [
    "series_uid = positiveSample_list[1][2]\n",
    "showCandidate(series_uid)"
   ]
  },
  {
   "cell_type": "code",
   "execution_count": null,
   "outputs": [],
   "source": [],
   "metadata": {
    "collapsed": false,
    "pycharm": {
     "is_executing": true
    }
   }
  },
  {
   "cell_type": "code",
   "execution_count": 8,
   "outputs": [],
   "source": [],
   "metadata": {
    "collapsed": false
   }
  }
 ],
 "metadata": {
  "kernelspec": {
   "display_name": "Python 3",
   "language": "python",
   "name": "python3"
  },
  "language_info": {
   "codemirror_mode": {
    "name": "ipython",
    "version": 3
   },
   "file_extension": ".py",
   "mimetype": "text/x-python",
   "name": "python",
   "nbconvert_exporter": "python",
   "pygments_lexer": "ipython3",
   "version": "3.6.7"
  }
 },
 "nbformat": 4,
 "nbformat_minor": 2
}
