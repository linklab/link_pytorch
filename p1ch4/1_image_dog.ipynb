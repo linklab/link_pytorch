{
 "cells": [
  {
   "cell_type": "code",
   "execution_count": 1,
   "metadata": {},
   "outputs": [],
   "source": [
    "import numpy as np\n",
    "import torch\n",
    "torch.set_printoptions(edgeitems=2, threshold=50)"
   ]
  },
  {
   "cell_type": "code",
   "execution_count": 3,
   "metadata": {},
   "outputs": [
    {
     "data": {
      "text/plain": "(imageio.core.util.Array, (720, 1280, 3), dtype('uint8'))"
     },
     "execution_count": 3,
     "metadata": {},
     "output_type": "execute_result"
    }
   ],
   "source": [
    "import imageio.v2 as imageio\n",
    "\n",
    "img_arr = imageio.imread('../data/p1ch4/image-dog/bobby.jpg')\n",
    "type(img_arr), img_arr.shape, img_arr.dtype"
   ]
  },
  {
   "cell_type": "code",
   "execution_count": 18,
   "outputs": [
    {
     "data": {
      "text/plain": "Array([[[238, 195, 137],\n        [238, 195, 137],\n        [238, 195, 137],\n        ...,\n        [214, 173, 125],\n        [215, 175, 126],\n        [215, 175, 126]],\n\n       [[238, 195, 137],\n        [238, 195, 137],\n        [238, 195, 137],\n        ...,\n        [214, 173, 125],\n        [215, 175, 126],\n        [215, 175, 126]],\n\n       [[238, 195, 137],\n        [238, 195, 137],\n        [238, 195, 137],\n        ...,\n        [214, 173, 125],\n        [215, 175, 126],\n        [215, 175, 126]],\n\n       ...,\n\n       [[214, 128,  79],\n        [213, 127,  78],\n        [212, 126,  77],\n        ...,\n        [187, 100,  64],\n        [190, 103,  68],\n        [193, 106,  72]],\n\n       [[214, 128,  79],\n        [213, 127,  78],\n        [212, 126,  77],\n        ...,\n        [186,  99,  64],\n        [190, 103,  69],\n        [192, 105,  71]],\n\n       [[214, 128,  79],\n        [213, 127,  78],\n        [212, 126,  77],\n        ...,\n        [186,  99,  65],\n        [190, 103,  69],\n        [192, 105,  72]]], dtype=uint8)"
     },
     "execution_count": 18,
     "metadata": {},
     "output_type": "execute_result"
    }
   ],
   "source": [
    "img_arr"
   ],
   "metadata": {
    "collapsed": false
   }
  },
  {
   "cell_type": "code",
   "execution_count": 6,
   "metadata": {},
   "outputs": [
    {
     "data": {
      "text/plain": "torch.Size([3, 720, 1280])"
     },
     "execution_count": 6,
     "metadata": {},
     "output_type": "execute_result"
    }
   ],
   "source": [
    "img = torch.from_numpy(img_arr)\n",
    "out = img.permute(2, 0, 1)\n",
    "out.shape"
   ]
  },
  {
   "cell_type": "code",
   "execution_count": 19,
   "outputs": [
    {
     "data": {
      "text/plain": "tensor([[[ 77,  77,  ..., 117, 116],\n         [ 75,  76,  ..., 117, 116],\n         ...,\n         [215, 216,  ..., 174, 174],\n         [215, 216,  ..., 158, 158]],\n\n        [[ 45,  45,  ...,  77,  76],\n         [ 43,  44,  ...,  77,  76],\n         ...,\n         [165, 166,  ..., 124, 124],\n         [165, 166,  ..., 107, 107]],\n\n        [[ 22,  22,  ...,  51,  50],\n         [ 20,  21,  ...,  51,  50],\n         ...,\n         [ 78,  79,  ...,  55,  55],\n         [ 78,  79,  ...,  41,  41]]], dtype=torch.uint8)"
     },
     "execution_count": 19,
     "metadata": {},
     "output_type": "execute_result"
    }
   ],
   "source": [
    "out"
   ],
   "metadata": {
    "collapsed": false
   }
  },
  {
   "cell_type": "code",
   "execution_count": 20,
   "metadata": {},
   "outputs": [],
   "source": [
    "batch_size = 3\n",
    "batch = torch.zeros(batch_size, 3, 256, 256, dtype=torch.uint8)"
   ]
  },
  {
   "cell_type": "code",
   "execution_count": 21,
   "metadata": {
    "scrolled": true
   },
   "outputs": [],
   "source": [
    "import os\n",
    "\n",
    "data_dir = '../data/p1ch4/image-cats/'\n",
    "filenames = [name for name in os.listdir(data_dir) if os.path.splitext(name)[-1] == '.png']"
   ]
  },
  {
   "cell_type": "code",
   "execution_count": 22,
   "outputs": [
    {
     "data": {
      "text/plain": "['cat1.png', 'cat2.png', 'cat3.png']"
     },
     "execution_count": 22,
     "metadata": {},
     "output_type": "execute_result"
    }
   ],
   "source": [
    "filenames"
   ],
   "metadata": {
    "collapsed": false
   }
  },
  {
   "cell_type": "code",
   "execution_count": 23,
   "outputs": [],
   "source": [
    "from PIL import Image\n",
    "for i, filename in enumerate(filenames):\n",
    "    image = Image.open(os.path.join(data_dir, filename))\n",
    "    image.show()"
   ],
   "metadata": {
    "collapsed": false
   }
  },
  {
   "cell_type": "code",
   "execution_count": 24,
   "outputs": [],
   "source": [
    "for i, filename in enumerate(filenames):\n",
    "    img_arr = imageio.imread(os.path.join(data_dir, filename))\n",
    "    img_t = torch.from_numpy(img_arr)\n",
    "    img_t = img_t.permute(2, 0, 1)\n",
    "    if len(img_t) > 3:\n",
    "        img_t = img_t[:3] # <1>\n",
    "    assert batch[i].shape == img_t.shape\n",
    "    batch[i] = img_t"
   ],
   "metadata": {
    "collapsed": false
   }
  },
  {
   "cell_type": "code",
   "execution_count": 16,
   "metadata": {},
   "outputs": [
    {
     "data": {
      "text/plain": "(torch.float32, torch.Size([3, 3, 256, 256]))"
     },
     "execution_count": 16,
     "metadata": {},
     "output_type": "execute_result"
    }
   ],
   "source": [
    "batch = batch.float()\n",
    "batch /= 255.0\n",
    "batch.dtype, batch.shape"
   ]
  },
  {
   "cell_type": "code",
   "execution_count": 17,
   "outputs": [
    {
     "data": {
      "text/plain": "tensor([[[[0.6118, 0.5961,  ..., 0.5843, 0.6196],\n          [0.6824, 0.5255,  ..., 0.5333, 0.5412],\n          ...,\n          [0.5059, 0.5098,  ..., 0.4745, 0.4471],\n          [0.5059, 0.4824,  ..., 0.4745, 0.4706]],\n\n         [[0.5451, 0.5294,  ..., 0.5294, 0.5765],\n          [0.6275, 0.4667,  ..., 0.4784, 0.4863],\n          ...,\n          [0.4353, 0.4353,  ..., 0.4392, 0.4118],\n          [0.4353, 0.4078,  ..., 0.4314, 0.4353]],\n\n         [[0.5059, 0.4824,  ..., 0.5176, 0.5686],\n          [0.6078, 0.4314,  ..., 0.4667, 0.4745],\n          ...,\n          [0.4235, 0.4235,  ..., 0.4588, 0.4314],\n          [0.4196, 0.3843,  ..., 0.4510, 0.4549]]],\n\n\n        [[[0.7922, 0.7569,  ..., 0.0510, 0.0471],\n          [0.7804, 0.7529,  ..., 0.0549, 0.0549],\n          ...,\n          [0.2941, 0.2667,  ..., 0.1412, 0.1451],\n          [0.3333, 0.4039,  ..., 0.1451, 0.1490]],\n\n         [[0.5922, 0.5451,  ..., 0.0353, 0.0314],\n          [0.5922, 0.5490,  ..., 0.0431, 0.0431],\n          ...,\n          [0.1294, 0.1020,  ..., 0.1020, 0.1059],\n          [0.1569, 0.2275,  ..., 0.1059, 0.1098]],\n\n         [[0.2667, 0.2078,  ..., 0.0235, 0.0196],\n          [0.2627, 0.2118,  ..., 0.0235, 0.0235],\n          ...,\n          [0.0431, 0.0078,  ..., 0.0667, 0.0706],\n          [0.0745, 0.1451,  ..., 0.0706, 0.0745]]],\n\n\n        [[[0.9333, 0.9333,  ..., 0.8431, 0.8431],\n          [0.9333, 0.9333,  ..., 0.8431, 0.8431],\n          ...,\n          [0.8392, 0.8353,  ..., 0.7451, 0.7529],\n          [0.8392, 0.8353,  ..., 0.7451, 0.7529]],\n\n         [[0.7647, 0.7647,  ..., 0.6863, 0.6863],\n          [0.7647, 0.7647,  ..., 0.6863, 0.6863],\n          ...,\n          [0.5020, 0.4980,  ..., 0.4039, 0.4118],\n          [0.5020, 0.4980,  ..., 0.4039, 0.4118]],\n\n         [[0.5373, 0.5373,  ..., 0.4941, 0.4941],\n          [0.5373, 0.5373,  ..., 0.4941, 0.4941],\n          ...,\n          [0.3098, 0.3059,  ..., 0.2706, 0.2784],\n          [0.3098, 0.3059,  ..., 0.2706, 0.2824]]]])"
     },
     "execution_count": 17,
     "metadata": {},
     "output_type": "execute_result"
    }
   ],
   "source": [
    "batch"
   ],
   "metadata": {
    "collapsed": false
   }
  },
  {
   "cell_type": "code",
   "execution_count": 20,
   "metadata": {},
   "outputs": [],
   "source": [
    "n_channels = batch.shape[1]\n",
    "\n",
    "for c in range(n_channels):\n",
    "    mean = torch.mean(batch[:, c])\n",
    "    std = torch.std(batch[:, c])\n",
    "    batch[:, c] = (batch[:, c] - mean) / std"
   ]
  }
 ],
 "metadata": {
  "kernelspec": {
   "display_name": "Python 3",
   "language": "python",
   "name": "python3"
  },
  "language_info": {
   "codemirror_mode": {
    "name": "ipython",
    "version": 3
   },
   "file_extension": ".py",
   "mimetype": "text/x-python",
   "name": "python",
   "nbconvert_exporter": "python",
   "pygments_lexer": "ipython3",
   "version": "3.7.6"
  }
 },
 "nbformat": 4,
 "nbformat_minor": 2
}
