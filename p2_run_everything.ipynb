{
 "cells": [
  {
   "cell_type": "code",
   "execution_count": 1,
   "metadata": {},
   "outputs": [],
   "source": [
    "import datetime\n",
    "\n",
    "from util.util import importstr\n",
    "from util.logconf import logging\n",
    "log = logging.getLogger('nb')"
   ]
  },
  {
   "cell_type": "code",
   "execution_count": 2,
   "metadata": {},
   "outputs": [],
   "source": [
    "def run(app, *argv):\n",
    "    argv = list(argv)\n",
    "    argv.insert(0, '--num-workers=4')  # <1>\n",
    "    log.info(\"Running: {}({!r}).main()\".format(app, argv))\n",
    "    \n",
    "    app_cls = importstr(*app.rsplit('.', 1))  # <2>\n",
    "    app_cls(argv).main()\n",
    "    \n",
    "    log.info(\"Finished: {}.{!r}).main()\".format(app, argv))"
   ]
  },
  {
   "cell_type": "code",
   "execution_count": 3,
   "metadata": {},
   "outputs": [],
   "source": [
    "import os\n",
    "import shutil\n",
    "\n",
    "# clean up any old data that might be around.\n",
    "# We don't call this by default because it's destructive, \n",
    "# and would waste a lot of time if it ran when nothing \n",
    "# on the application side had changed.\n",
    "def cleanCache():\n",
    "    shutil.rmtree('data-unversioned/cache')\n",
    "    os.mkdir('data-unversioned/cache')\n",
    "\n",
    "# cleanCache()"
   ]
  },
  {
   "cell_type": "code",
   "execution_count": 4,
   "metadata": {},
   "outputs": [],
   "source": [
    "training_epochs = 20\n",
    "experiment_epochs = 10\n",
    "final_epochs = 50\n",
    "\n",
    "training_epochs = 2\n",
    "experiment_epochs = 2\n",
    "final_epochs = 5\n",
    "seg_epochs = 10"
   ]
  },
  {
   "cell_type": "markdown",
   "metadata": {},
   "source": [
    "## Chapter 11"
   ]
  },
  {
   "cell_type": "code",
   "execution_count": 5,
   "metadata": {},
   "outputs": [
    {
     "name": "stderr",
     "output_type": "stream",
     "text": [
      "2023-04-30 21:46:37,514 INFO     pid:32194 nb:004:run Running: p2ch11.prepcache.LunaPrepCacheApp(['--num-workers=4']).main()\n",
      "2023-04-30 21:46:38,373 INFO     pid:32194 p2ch11.prepcache:043:main Starting LunaPrepCacheApp, Namespace(batch_size=1024, num_workers=4)\n",
      "2023-04-30 21:46:39,538 INFO     pid:32194 p2ch11.dsets:182:__init__ <p2ch11.dsets.LunaDataset object at 0x103109bd0>: 56938 training samples\n",
      "2023-04-30 21:46:39,539 WARNING  pid:32194 util.util:219:enumerateWithEstimate Stuffing cache ----/56, starting\n",
      "2023-04-30 21:46:59,700 INFO     pid:32194 util.util:236:enumerateWithEstimate Stuffing cache    8/56, done at 2023-04-30 21:48:39, 0:01:49\n",
      "2023-04-30 21:47:11,286 INFO     pid:32194 util.util:236:enumerateWithEstimate Stuffing cache   16/56, done at 2023-04-30 21:48:17, 0:01:28\n",
      "2023-04-30 21:47:32,142 INFO     pid:32194 util.util:236:enumerateWithEstimate Stuffing cache   32/56, done at 2023-04-30 21:48:06, 0:01:17\n",
      "2023-04-30 21:48:17,305 WARNING  pid:32194 util.util:249:enumerateWithEstimate Stuffing cache ----/56, done at 2023-04-30 21:48:17\n",
      "2023-04-30 21:48:17,315 INFO     pid:32194 nb:009:run Finished: p2ch11.prepcache.LunaPrepCacheApp.['--num-workers=4']).main()\n"
     ]
    }
   ],
   "source": [
    "run('p2ch11.prepcache.LunaPrepCacheApp')"
   ]
  },
  {
   "cell_type": "code",
   "execution_count": 7,
   "metadata": {},
   "outputs": [
    {
     "name": "stderr",
     "output_type": "stream",
     "text": [
      "2023-04-30 22:05:28,240 INFO     pid:32194 nb:004:run Running: p2ch11.training.LunaTrainingApp(['--num-workers=4', '--epochs=1']).main()\n",
      "2023-04-30 22:05:28,486 INFO     pid:32194 p2ch11.training:138:main Starting LunaTrainingApp, Namespace(num_workers=4, batch_size=32, epochs=1, tb_prefix='p2ch11', comment='dwlpt')\n",
      "2023-04-30 22:05:28,500 INFO     pid:32194 p2ch11.dsets:182:__init__ <p2ch11.dsets.LunaDataset object at 0x1525f9ae0>: 51244 training samples\n",
      "2023-04-30 22:05:28,503 INFO     pid:32194 p2ch11.dsets:182:__init__ <p2ch11.dsets.LunaDataset object at 0x16d718460>: 5694 validation samples\n",
      "2023-04-30 22:05:28,503 INFO     pid:32194 p2ch11.training:145:main Epoch 1 of 1, 1602/178 batches of size 32*1\n",
      "2023-04-30 22:05:28,504 WARNING  pid:32194 util.util:219:enumerateWithEstimate E1 Training ----/1602, starting\n",
      "2023-04-30 22:06:14,885 INFO     pid:32194 util.util:236:enumerateWithEstimate E1 Training   16/1602, done at 2023-04-30 23:11:21, 1:05:38\n",
      "2023-04-30 22:08:11,875 INFO     pid:32194 util.util:236:enumerateWithEstimate E1 Training   64/1602, done at 2023-04-30 23:10:47, 1:05:04\n",
      "2023-04-30 22:15:54,762 INFO     pid:32194 util.util:236:enumerateWithEstimate E1 Training  256/1602, done at 2023-04-30 23:10:07, 1:04:25\n",
      "2023-04-30 22:47:46,988 INFO     pid:32194 util.util:236:enumerateWithEstimate E1 Training 1024/1602, done at 2023-04-30 23:11:33, 1:05:50\n",
      "2023-04-30 23:13:30,831 WARNING  pid:32194 util.util:249:enumerateWithEstimate E1 Training ----/1602, done at 2023-04-30 23:13:30\n",
      "2023-04-30 23:13:30,845 INFO     pid:32194 p2ch11.training:259:logMetrics E1 LunaTrainingApp\n",
      "2023-04-30 23:13:30,854 INFO     pid:32194 p2ch11.training:289:logMetrics E1 trn      0.0368 loss,  99.6% correct, \n",
      "2023-04-30 23:13:30,855 INFO     pid:32194 p2ch11.training:298:logMetrics E1 trn_neg  0.0057 loss,  99.8% correct (51044 of 51135)\n",
      "2023-04-30 23:13:30,856 INFO     pid:32194 p2ch11.training:309:logMetrics E1 trn_pos  14.6107 loss,   0.0% correct (0 of 109)\n",
      "2023-04-30 23:13:30,875 WARNING  pid:32194 util.util:219:enumerateWithEstimate E1 Validation  ----/178, starting\n",
      "2023-04-30 23:13:49,375 INFO     pid:32194 util.util:236:enumerateWithEstimate E1 Validation    16/178, done at 2023-04-30 23:16:11, 0:02:33\n",
      "2023-04-30 23:14:32,046 INFO     pid:32194 util.util:236:enumerateWithEstimate E1 Validation    64/178, done at 2023-04-30 23:16:12, 0:02:34\n",
      "2023-04-30 23:16:39,965 WARNING  pid:32194 util.util:249:enumerateWithEstimate E1 Validation  ----/178, done at 2023-04-30 23:16:39\n",
      "2023-04-30 23:16:39,968 INFO     pid:32194 p2ch11.training:259:logMetrics E1 LunaTrainingApp\n",
      "2023-04-30 23:16:39,973 INFO     pid:32194 p2ch11.training:289:logMetrics E1 val      0.0499 loss,  99.8% correct, \n",
      "2023-04-30 23:16:39,974 INFO     pid:32194 p2ch11.training:298:logMetrics E1 val_neg  0.0000 loss, 100.0% correct (5681 of 5681)\n",
      "2023-04-30 23:16:39,975 INFO     pid:32194 p2ch11.training:309:logMetrics E1 val_pos  21.8484 loss,   0.0% correct (0 of 13)\n",
      "2023-04-30 23:16:39,990 INFO     pid:32194 nb:009:run Finished: p2ch11.training.LunaTrainingApp.['--num-workers=4', '--epochs=1']).main()\n"
     ]
    }
   ],
   "source": [
    "run('p2ch11.training.LunaTrainingApp', '--epochs=1')"
   ]
  },
  {
   "cell_type": "code",
   "execution_count": null,
   "metadata": {},
   "outputs": [],
   "source": [
    "run('p2ch11.training.LunaTrainingApp', f'--epochs={experiment_epochs}')"
   ]
  },
  {
   "cell_type": "markdown",
   "metadata": {},
   "source": [
    "## Chapter 12"
   ]
  },
  {
   "cell_type": "code",
   "execution_count": null,
   "metadata": {},
   "outputs": [],
   "source": [
    "run('p2ch12.prepcache.LunaPrepCacheApp')"
   ]
  },
  {
   "cell_type": "code",
   "execution_count": null,
   "metadata": {},
   "outputs": [],
   "source": [
    "run('p2ch12.training.LunaTrainingApp', '--epochs=1', 'unbalanced')"
   ]
  },
  {
   "cell_type": "code",
   "execution_count": null,
   "metadata": {},
   "outputs": [],
   "source": [
    "run('p2ch12.training.LunaTrainingApp', f'--epochs={training_epochs}', '--balanced', 'balanced')"
   ]
  },
  {
   "cell_type": "code",
   "execution_count": null,
   "metadata": {},
   "outputs": [],
   "source": [
    "run('p2ch12.training.LunaTrainingApp', f'--epochs={experiment_epochs}', '--balanced', '--augment-flip', 'flip')"
   ]
  },
  {
   "cell_type": "code",
   "execution_count": null,
   "metadata": {},
   "outputs": [],
   "source": [
    "run('p2ch12.training.LunaTrainingApp', f'--epochs={experiment_epochs}', '--balanced', '--augment-offset', 'offset')"
   ]
  },
  {
   "cell_type": "code",
   "execution_count": null,
   "metadata": {},
   "outputs": [],
   "source": [
    "run('p2ch12.training.LunaTrainingApp', f'--epochs={experiment_epochs}', '--balanced', '--augment-scale', 'scale')"
   ]
  },
  {
   "cell_type": "code",
   "execution_count": null,
   "metadata": {},
   "outputs": [],
   "source": [
    "run('p2ch12.training.LunaTrainingApp', f'--epochs={experiment_epochs}', '--balanced', '--augment-rotate', 'rotate')"
   ]
  },
  {
   "cell_type": "code",
   "execution_count": null,
   "metadata": {},
   "outputs": [],
   "source": [
    "run('p2ch12.training.LunaTrainingApp', f'--epochs={experiment_epochs}', '--balanced', '--augment-noise', 'noise')"
   ]
  },
  {
   "cell_type": "code",
   "execution_count": null,
   "metadata": {},
   "outputs": [],
   "source": [
    "run('p2ch12.training.LunaTrainingApp', f'--epochs={training_epochs}', '--balanced', '--augmented', 'fully-augmented')"
   ]
  },
  {
   "cell_type": "markdown",
   "metadata": {},
   "source": [
    "## Chapter 13"
   ]
  },
  {
   "cell_type": "code",
   "execution_count": null,
   "metadata": {},
   "outputs": [],
   "source": [
    "run('p2ch13.prepcache.LunaPrepCacheApp')"
   ]
  },
  {
   "cell_type": "code",
   "execution_count": null,
   "metadata": {},
   "outputs": [],
   "source": [
    "run('p2ch13.training.LunaTrainingApp', f'--epochs={final_epochs}', '--balanced', '--augmented', 'final-cls')"
   ]
  },
  {
   "cell_type": "code",
   "execution_count": null,
   "metadata": {
    "scrolled": true
   },
   "outputs": [],
   "source": [
    "run('p2ch13.train_seg.LunaTrainingApp', f'--epochs={seg_epochs}', '--augmented', 'final-seg')"
   ]
  },
  {
   "cell_type": "markdown",
   "metadata": {},
   "source": [
    "## Chapter 14"
   ]
  },
  {
   "cell_type": "code",
   "execution_count": null,
   "metadata": {},
   "outputs": [],
   "source": [
    "run('p2ch14.prepcache.LunaPrepCacheApp')"
   ]
  },
  {
   "cell_type": "code",
   "execution_count": null,
   "metadata": {
    "scrolled": true
   },
   "outputs": [],
   "source": [
    "run('p2ch14.training.ClassificationTrainingApp', f'--epochs=100', 'nodule-nonnodule')"
   ]
  },
  {
   "cell_type": "code",
   "execution_count": null,
   "metadata": {
    "scrolled": false
   },
   "outputs": [],
   "source": [
    "run('p2ch14.training.ClassificationTrainingApp', f'--epochs=40', '--malignant', '--dataset=MalignantLunaDataset',\n",
    "    '--finetune=''data/part2/models/cls_2020-02-06_14.16.55_final-nodule-nonnodule.best.state',\n",
    "    'finetune-head')\n"
   ]
  },
  {
   "cell_type": "code",
   "execution_count": null,
   "metadata": {
    "scrolled": false
   },
   "outputs": [],
   "source": [
    "run('p2ch14.training.ClassificationTrainingApp', f'--epochs=40', '--malignant', '--dataset=MalignantLunaDataset',\n",
    "    '--finetune=''data/part2/models/cls_2020-02-06_14.16.55_final-nodule-nonnodule.best.state',\n",
    "    '--finetune-depth=2',\n",
    "    'finetune-depth2')\n"
   ]
  },
  {
   "cell_type": "code",
   "execution_count": null,
   "metadata": {},
   "outputs": [],
   "source": [
    "run('p2ch14.nodule_analysis.NoduleAnalysisApp', '--run-validation')"
   ]
  },
  {
   "cell_type": "code",
   "execution_count": null,
   "metadata": {},
   "outputs": [],
   "source": [
    "run('p2ch14.nodule_analysis.NoduleAnalysisApp', '--run-validation', '--malignancy-path')"
   ]
  },
  {
   "cell_type": "code",
   "execution_count": null,
   "metadata": {},
   "outputs": [],
   "source": []
  },
  {
   "cell_type": "code",
   "execution_count": null,
   "metadata": {},
   "outputs": [],
   "source": []
  }
 ],
 "metadata": {
  "kernelspec": {
   "display_name": "Python 3",
   "language": "python",
   "name": "python3"
  },
  "language_info": {
   "codemirror_mode": {
    "name": "ipython",
    "version": 3
   },
   "file_extension": ".py",
   "mimetype": "text/x-python",
   "name": "python",
   "nbconvert_exporter": "python",
   "pygments_lexer": "ipython3",
   "version": "3.6.7"
  }
 },
 "nbformat": 4,
 "nbformat_minor": 2
}
